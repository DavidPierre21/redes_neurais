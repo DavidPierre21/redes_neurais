{
  "nbformat": 4,
  "nbformat_minor": 0,
  "metadata": {
    "colab": {
      "name": "Rede Neural Lenet e VGG",
      "version": "0.3.2",
      "provenance": [],
      "collapsed_sections": [],
      "include_colab_link": true
    },
    "kernelspec": {
      "name": "python3",
      "display_name": "Python 3"
    },
    "accelerator": "GPU"
  },
  "cells": [
    {
      "cell_type": "markdown",
      "metadata": {
        "id": "view-in-github",
        "colab_type": "text"
      },
      "source": [
        "<a href=\"https://colab.research.google.com/github/DavidPierre21/redes_neurais/blob/master/CNN/Rede_Neural_Lenet_e_VGG.ipynb\" target=\"_parent\"><img src=\"https://colab.research.google.com/assets/colab-badge.svg\" alt=\"Open In Colab\"/></a>"
      ]
    },
    {
      "cell_type": "markdown",
      "metadata": {
        "id": "wziql3WY62o0",
        "colab_type": "text"
      },
      "source": [
        "## Rede Neural Convolucional\n",
        "\n",
        "### Nessa aula, vamos treinar a rede Neural VGG com a base de dados CIFAR-10\n",
        "\n",
        "---\n",
        "\n",
        "### 1. Carrega a Base de dados CIFAR-10"
      ]
    },
    {
      "cell_type": "code",
      "metadata": {
        "id": "Mg9ihtNj8pDo",
        "colab_type": "code",
        "colab": {}
      },
      "source": [
        "import keras\n",
        "from keras.datasets import cifar10\n",
        "\n",
        "# load the pre-shuffled train and test data\n",
        "(x_train, y_train), (x_test, y_test) = cifar10.load_data()"
      ],
      "execution_count": 0,
      "outputs": []
    },
    {
      "cell_type": "markdown",
      "metadata": {
        "id": "G41PbCuK8qQH",
        "colab_type": "text"
      },
      "source": [
        "###2. Reescale as imagens dividindo todos os pixels por 255"
      ]
    },
    {
      "cell_type": "code",
      "metadata": {
        "id": "CeJg_vfa828R",
        "colab_type": "code",
        "colab": {}
      },
      "source": [
        "# rescale [0,255] --> [0,1]\n",
        "x_train = x_train.astype('float32')/255\n",
        "x_test = x_test.astype('float32')/255"
      ],
      "execution_count": 0,
      "outputs": []
    },
    {
      "cell_type": "markdown",
      "metadata": {
        "id": "krh48rlw9XHe",
        "colab_type": "text"
      },
      "source": [
        "### 3. Comece importando os pacotes necessários para o projeto"
      ]
    },
    {
      "cell_type": "code",
      "metadata": {
        "id": "WppfDvBhkFfd",
        "colab_type": "code",
        "colab": {}
      },
      "source": [
        "# import the necessary packages\n",
        "#from pyimagesearch.nn.conv import LeNet\n",
        "from keras.optimizers import SGD\n",
        "from sklearn.preprocessing import LabelBinarizer\n",
        "from sklearn.metrics import classification_report\n",
        "from keras import backend as K\n",
        "import matplotlib.pyplot as plt\n",
        "import numpy as np\n",
        "\n",
        "from keras.models import Sequential\n",
        "from keras.layers.convolutional import Conv2D\n",
        "from keras.layers.convolutional import MaxPooling2D\n",
        "from keras.layers.core import Activation\n",
        "from keras.layers.core import Flatten\n",
        "from keras.layers.core import Dense"
      ],
      "execution_count": 0,
      "outputs": []
    },
    {
      "cell_type": "markdown",
      "metadata": {
        "id": "qYO2Eone87MN",
        "colab_type": "text"
      },
      "source": [
        "### 4.  Dividir base de dados em conjuntos de treinamento, teste e validação."
      ]
    },
    {
      "cell_type": "code",
      "metadata": {
        "id": "WeikbgB68886",
        "colab_type": "code",
        "outputId": "7341d7e0-9e7b-4c07-f225-56ae86f2a337",
        "colab": {
          "base_uri": "https://localhost:8080/",
          "height": 85
        }
      },
      "source": [
        "from keras.utils import np_utils\n",
        "\n",
        "# one-hot encode the labels\n",
        "num_classes = len(np.unique(y_train))\n",
        "y_train = keras.utils.to_categorical(y_train, num_classes)\n",
        "y_test = keras.utils.to_categorical(y_test, num_classes)\n",
        "\n",
        "# break training set into training and validation sets\n",
        "(x_train, x_valid) = x_train[5000:], x_train[:5000]\n",
        "(y_train, y_valid) = y_train[5000:], y_train[:5000]\n",
        "\n",
        "# print shape of training set\n",
        "print('x_train shape:', x_train.shape)\n",
        "\n",
        "# print number of training, validation, and test images\n",
        "print(x_train.shape[0], 'train samples')\n",
        "print(x_test.shape[0], 'test samples')\n",
        "print(x_valid.shape[0], 'validation samples')"
      ],
      "execution_count": 5,
      "outputs": [
        {
          "output_type": "stream",
          "text": [
            "x_train shape: (45000, 32, 32, 3)\n",
            "45000 train samples\n",
            "10000 test samples\n",
            "5000 validation samples\n"
          ],
          "name": "stdout"
        }
      ]
    },
    {
      "cell_type": "markdown",
      "metadata": {
        "id": "gfEq5XMP92vb",
        "colab_type": "text"
      },
      "source": [
        "## MiniVGG"
      ]
    },
    {
      "cell_type": "markdown",
      "metadata": {
        "id": "rbNA7trm-UFq",
        "colab_type": "text"
      },
      "source": [
        "### 6. Construa o modelo MiniVGG"
      ]
    },
    {
      "cell_type": "code",
      "metadata": {
        "id": "PU54qS0nD7QS",
        "colab_type": "code",
        "colab": {}
      },
      "source": [
        "from keras.layers.normalization import BatchNormalization\n",
        "from keras.layers.core import Dropout\n",
        "\n",
        "def build_MiniVGG(width, height, depth, classes):\n",
        "  # initialize the model\n",
        "  model = Sequential()\n",
        "  inputShape = (height, width, depth)# first CONV => RELU => CONV => RELU => POOL layer set\n",
        "  model.add(Conv2D(32, (3, 3), padding=\"same\",\n",
        "  input_shape=inputShape))\n",
        "  model.add(Activation(\"relu\"))\n",
        "  model.add(BatchNormalization(axis=2))\n",
        "  model.add(Conv2D(32, (3, 3), padding=\"same\"))\n",
        "  model.add(Activation(\"relu\"))\n",
        "  model.add(BatchNormalization(axis=2))\n",
        "  model.add(MaxPooling2D(pool_size=(2, 2)))\n",
        "  model.add(Dropout(0.25))\n",
        "  \n",
        "  # second CONV => RELU => CONV => RELU => POOL layer set\n",
        "  model.add(Conv2D(64, (3, 3), padding=\"same\"))\n",
        "  model.add(Activation(\"relu\"))\n",
        "  model.add(BatchNormalization(axis=2))\n",
        "  model.add(Conv2D(64, (3, 3), padding=\"same\"))\n",
        "  model.add(Activation(\"relu\"))\n",
        "  model.add(BatchNormalization(axis=2))\n",
        "  model.add(MaxPooling2D(pool_size=(2, 2)))\n",
        "  model.add(Dropout(0.25))\n",
        "  \n",
        "  # first (and only) set of FC => RELU layers\n",
        "  model.add(Flatten())\n",
        "  model.add(Dense(512))\n",
        "  model.add(Activation(\"relu\"))\n",
        "  model.add(BatchNormalization())\n",
        "  model.add(Dropout(0.5))\n",
        "  \n",
        "  # softmax classifier\n",
        "  model.add(Dense(classes))\n",
        "  model.add(Activation(\"softmax\"))\n",
        "  \n",
        "  model.summary()\n",
        "  \n",
        "  # return the constructed network architecture\n",
        "  return model\n",
        "  "
      ],
      "execution_count": 0,
      "outputs": []
    },
    {
      "cell_type": "markdown",
      "metadata": {
        "id": "_ako4TaV_LZ9",
        "colab_type": "text"
      },
      "source": [
        "### 7. Compile o modelo desejado (Lenet ou MiniVGG)"
      ]
    },
    {
      "cell_type": "code",
      "metadata": {
        "id": "UhXIPFVQ_ON-",
        "colab_type": "code",
        "outputId": "7e7f99ab-97bc-4c19-971a-d2c51b7cd745",
        "colab": {
          "base_uri": "https://localhost:8080/",
          "height": 1040
        }
      },
      "source": [
        "opt = SGD(lr=0.01)\n",
        "model = build_MiniVGG(width=32, height=32, depth=3, classes=10)\n",
        "model.compile(loss='categorical_crossentropy', optimizer=opt, \n",
        "                  metrics=['accuracy'])"
      ],
      "execution_count": 8,
      "outputs": [
        {
          "output_type": "stream",
          "text": [
            "WARNING:tensorflow:From /usr/local/lib/python3.6/dist-packages/tensorflow/python/framework/op_def_library.py:263: colocate_with (from tensorflow.python.framework.ops) is deprecated and will be removed in a future version.\n",
            "Instructions for updating:\n",
            "Colocations handled automatically by placer.\n",
            "WARNING:tensorflow:From /usr/local/lib/python3.6/dist-packages/keras/backend/tensorflow_backend.py:3445: calling dropout (from tensorflow.python.ops.nn_ops) with keep_prob is deprecated and will be removed in a future version.\n",
            "Instructions for updating:\n",
            "Please use `rate` instead of `keep_prob`. Rate should be set to `rate = 1 - keep_prob`.\n",
            "_________________________________________________________________\n",
            "Layer (type)                 Output Shape              Param #   \n",
            "=================================================================\n",
            "conv2d_1 (Conv2D)            (None, 32, 32, 32)        896       \n",
            "_________________________________________________________________\n",
            "activation_1 (Activation)    (None, 32, 32, 32)        0         \n",
            "_________________________________________________________________\n",
            "batch_normalization_1 (Batch (None, 32, 32, 32)        128       \n",
            "_________________________________________________________________\n",
            "conv2d_2 (Conv2D)            (None, 32, 32, 32)        9248      \n",
            "_________________________________________________________________\n",
            "activation_2 (Activation)    (None, 32, 32, 32)        0         \n",
            "_________________________________________________________________\n",
            "batch_normalization_2 (Batch (None, 32, 32, 32)        128       \n",
            "_________________________________________________________________\n",
            "max_pooling2d_1 (MaxPooling2 (None, 16, 16, 32)        0         \n",
            "_________________________________________________________________\n",
            "dropout_1 (Dropout)          (None, 16, 16, 32)        0         \n",
            "_________________________________________________________________\n",
            "conv2d_3 (Conv2D)            (None, 16, 16, 64)        18496     \n",
            "_________________________________________________________________\n",
            "activation_3 (Activation)    (None, 16, 16, 64)        0         \n",
            "_________________________________________________________________\n",
            "batch_normalization_3 (Batch (None, 16, 16, 64)        64        \n",
            "_________________________________________________________________\n",
            "conv2d_4 (Conv2D)            (None, 16, 16, 64)        36928     \n",
            "_________________________________________________________________\n",
            "activation_4 (Activation)    (None, 16, 16, 64)        0         \n",
            "_________________________________________________________________\n",
            "batch_normalization_4 (Batch (None, 16, 16, 64)        64        \n",
            "_________________________________________________________________\n",
            "max_pooling2d_2 (MaxPooling2 (None, 8, 8, 64)          0         \n",
            "_________________________________________________________________\n",
            "dropout_2 (Dropout)          (None, 8, 8, 64)          0         \n",
            "_________________________________________________________________\n",
            "flatten_1 (Flatten)          (None, 4096)              0         \n",
            "_________________________________________________________________\n",
            "dense_1 (Dense)              (None, 512)               2097664   \n",
            "_________________________________________________________________\n",
            "activation_5 (Activation)    (None, 512)               0         \n",
            "_________________________________________________________________\n",
            "batch_normalization_5 (Batch (None, 512)               2048      \n",
            "_________________________________________________________________\n",
            "dropout_3 (Dropout)          (None, 512)               0         \n",
            "_________________________________________________________________\n",
            "dense_2 (Dense)              (None, 10)                5130      \n",
            "_________________________________________________________________\n",
            "activation_6 (Activation)    (None, 10)                0         \n",
            "=================================================================\n",
            "Total params: 2,170,794\n",
            "Trainable params: 2,169,578\n",
            "Non-trainable params: 1,216\n",
            "_________________________________________________________________\n"
          ],
          "name": "stdout"
        }
      ]
    },
    {
      "cell_type": "markdown",
      "metadata": {
        "id": "J9C2tpWs_oF4",
        "colab_type": "text"
      },
      "source": [
        "### 8. Treine o Modelo"
      ]
    },
    {
      "cell_type": "code",
      "metadata": {
        "id": "qMNki4Ou_rFd",
        "colab_type": "code",
        "outputId": "228a25a6-8dc5-4c71-ccd8-a4b83a5cda29",
        "colab": {
          "base_uri": "https://localhost:8080/",
          "height": 1465
        }
      },
      "source": [
        "from keras.callbacks import ModelCheckpoint   \n",
        "\n",
        "# train the model\n",
        "checkpointer = ModelCheckpoint(filepath='model.weights.best.hdf5', verbose=1, \n",
        "                               save_best_only=True)\n",
        "hist = model.fit(x_train, y_train, batch_size=128, epochs=20,\n",
        "          validation_data=(x_valid, y_valid), callbacks=[checkpointer], \n",
        "          verbose=2, shuffle=True)"
      ],
      "execution_count": 9,
      "outputs": [
        {
          "output_type": "stream",
          "text": [
            "WARNING:tensorflow:From /usr/local/lib/python3.6/dist-packages/tensorflow/python/ops/math_ops.py:3066: to_int32 (from tensorflow.python.ops.math_ops) is deprecated and will be removed in a future version.\n",
            "Instructions for updating:\n",
            "Use tf.cast instead.\n",
            "Train on 45000 samples, validate on 5000 samples\n",
            "Epoch 1/20\n",
            " - 17s - loss: 2.3532 - acc: 0.2764 - val_loss: 1.6177 - val_acc: 0.4154\n",
            "\n",
            "Epoch 00001: val_loss improved from inf to 1.61768, saving model to model.weights.best.hdf5\n",
            "Epoch 2/20\n",
            " - 10s - loss: 1.7825 - acc: 0.3931 - val_loss: 1.6667 - val_acc: 0.4120\n",
            "\n",
            "Epoch 00002: val_loss did not improve from 1.61768\n",
            "Epoch 3/20\n",
            " - 10s - loss: 1.5553 - acc: 0.4546 - val_loss: 1.2892 - val_acc: 0.5434\n",
            "\n",
            "Epoch 00003: val_loss improved from 1.61768 to 1.28925, saving model to model.weights.best.hdf5\n",
            "Epoch 4/20\n",
            " - 10s - loss: 1.4178 - acc: 0.4987 - val_loss: 1.2021 - val_acc: 0.5704\n",
            "\n",
            "Epoch 00004: val_loss improved from 1.28925 to 1.20212, saving model to model.weights.best.hdf5\n",
            "Epoch 5/20\n",
            " - 10s - loss: 1.3144 - acc: 0.5339 - val_loss: 1.1429 - val_acc: 0.5912\n",
            "\n",
            "Epoch 00005: val_loss improved from 1.20212 to 1.14291, saving model to model.weights.best.hdf5\n",
            "Epoch 6/20\n",
            " - 10s - loss: 1.2393 - acc: 0.5591 - val_loss: 1.0807 - val_acc: 0.6128\n",
            "\n",
            "Epoch 00006: val_loss improved from 1.14291 to 1.08075, saving model to model.weights.best.hdf5\n",
            "Epoch 7/20\n",
            " - 10s - loss: 1.1872 - acc: 0.5762 - val_loss: 1.1010 - val_acc: 0.6078\n",
            "\n",
            "Epoch 00007: val_loss did not improve from 1.08075\n",
            "Epoch 8/20\n",
            " - 10s - loss: 1.1371 - acc: 0.5948 - val_loss: 0.9997 - val_acc: 0.6416\n",
            "\n",
            "Epoch 00008: val_loss improved from 1.08075 to 0.99967, saving model to model.weights.best.hdf5\n",
            "Epoch 9/20\n",
            " - 10s - loss: 1.0935 - acc: 0.6104 - val_loss: 1.0306 - val_acc: 0.6216\n",
            "\n",
            "Epoch 00009: val_loss did not improve from 0.99967\n",
            "Epoch 10/20\n",
            " - 10s - loss: 1.0544 - acc: 0.6249 - val_loss: 1.1054 - val_acc: 0.6202\n",
            "\n",
            "Epoch 00010: val_loss did not improve from 0.99967\n",
            "Epoch 11/20\n",
            " - 10s - loss: 1.0217 - acc: 0.6371 - val_loss: 1.0994 - val_acc: 0.6084\n",
            "\n",
            "Epoch 00011: val_loss did not improve from 0.99967\n",
            "Epoch 12/20\n",
            " - 10s - loss: 0.9921 - acc: 0.6477 - val_loss: 1.0040 - val_acc: 0.6358\n",
            "\n",
            "Epoch 00012: val_loss did not improve from 0.99967\n",
            "Epoch 13/20\n",
            " - 10s - loss: 0.9641 - acc: 0.6564 - val_loss: 0.9087 - val_acc: 0.6756\n",
            "\n",
            "Epoch 00013: val_loss improved from 0.99967 to 0.90871, saving model to model.weights.best.hdf5\n",
            "Epoch 14/20\n",
            " - 10s - loss: 0.9376 - acc: 0.6658 - val_loss: 0.8655 - val_acc: 0.6876\n",
            "\n",
            "Epoch 00014: val_loss improved from 0.90871 to 0.86551, saving model to model.weights.best.hdf5\n",
            "Epoch 15/20\n",
            " - 10s - loss: 0.9130 - acc: 0.6767 - val_loss: 0.8979 - val_acc: 0.6818\n",
            "\n",
            "Epoch 00015: val_loss did not improve from 0.86551\n",
            "Epoch 16/20\n",
            " - 10s - loss: 0.8917 - acc: 0.6846 - val_loss: 0.8810 - val_acc: 0.6904\n",
            "\n",
            "Epoch 00016: val_loss did not improve from 0.86551\n",
            "Epoch 17/20\n",
            " - 10s - loss: 0.8694 - acc: 0.6918 - val_loss: 0.8921 - val_acc: 0.6854\n",
            "\n",
            "Epoch 00017: val_loss did not improve from 0.86551\n",
            "Epoch 18/20\n",
            " - 10s - loss: 0.8450 - acc: 0.7015 - val_loss: 0.8446 - val_acc: 0.7008\n",
            "\n",
            "Epoch 00018: val_loss improved from 0.86551 to 0.84461, saving model to model.weights.best.hdf5\n",
            "Epoch 19/20\n",
            " - 10s - loss: 0.8333 - acc: 0.7041 - val_loss: 0.8002 - val_acc: 0.7208\n",
            "\n",
            "Epoch 00019: val_loss improved from 0.84461 to 0.80025, saving model to model.weights.best.hdf5\n",
            "Epoch 20/20\n",
            " - 10s - loss: 0.8078 - acc: 0.7125 - val_loss: 0.7626 - val_acc: 0.7354\n",
            "\n",
            "Epoch 00020: val_loss improved from 0.80025 to 0.76261, saving model to model.weights.best.hdf5\n"
          ],
          "name": "stdout"
        }
      ]
    },
    {
      "cell_type": "markdown",
      "metadata": {
        "id": "kVuD-3YRApuZ",
        "colab_type": "text"
      },
      "source": [
        "### 9. Carrege o modelo com a melhor acurácia no conjunto de validação"
      ]
    },
    {
      "cell_type": "code",
      "metadata": {
        "id": "2hRoZP7lAz4_",
        "colab_type": "code",
        "colab": {}
      },
      "source": [
        "# load the weights that yielded the best validation accuracy\n",
        "model.load_weights('model.weights.best.hdf5')"
      ],
      "execution_count": 0,
      "outputs": []
    },
    {
      "cell_type": "markdown",
      "metadata": {
        "id": "oGZZwhU2A08d",
        "colab_type": "text"
      },
      "source": [
        "### **10**. Calcule a acurácia no conjunto de teste"
      ]
    },
    {
      "cell_type": "code",
      "metadata": {
        "id": "pOu79m9dA-5D",
        "colab_type": "code",
        "outputId": "e009d111-eb94-4e5d-b8d6-8e77c18fde84",
        "colab": {
          "base_uri": "https://localhost:8080/",
          "height": 51
        }
      },
      "source": [
        "# evaluate and print test accuracy\n",
        "score = model.evaluate(x_test, y_test, verbose=0)\n",
        "print('\\n', 'Test accuracy:', score[1])"
      ],
      "execution_count": 11,
      "outputs": [
        {
          "output_type": "stream",
          "text": [
            "\n",
            " Test accuracy: 0.7294\n"
          ],
          "name": "stdout"
        }
      ]
    },
    {
      "cell_type": "markdown",
      "metadata": {
        "id": "yb9V707SDIFc",
        "colab_type": "text"
      },
      "source": [
        "### **11**. Informações sobre acurácia no treinamento"
      ]
    },
    {
      "cell_type": "code",
      "metadata": {
        "id": "DkumElTUH622",
        "colab_type": "code",
        "outputId": "7e13ff1f-5955-400d-8255-1ac79112e040",
        "colab": {
          "base_uri": "https://localhost:8080/",
          "height": 605
        }
      },
      "source": [
        "# evaluate the network\n",
        "print(\"[INFO] evaluating network...\")\n",
        "\n",
        "# get predictions on the test set\n",
        "predictions = model.predict(x_test, batch_size=128)\n",
        "\n",
        "# define text labels (source: https://www.cs.toronto.edu/~kriz/cifar.html)\n",
        "cifar10_labels = ['airplane', 'automobile', 'bird', 'cat', 'deer', 'dog', 'frog', 'horse', 'ship', 'truck']\n",
        "\n",
        "\n",
        "print(classification_report(y_test.argmax(axis=1),\n",
        "predictions.argmax(axis=1),\n",
        "target_names=cifar10_labels))\n",
        "\n",
        "# plot the training loss and accuracy\n",
        "plt.style.use(\"ggplot\")\n",
        "plt.figure()\n",
        "plt.plot(np.arange(0, 20), hist.history[\"loss\"], label=\"train_loss\" )\n",
        "plt.plot(np.arange(0, 20), hist.history[\"val_loss\"], label=\"val_loss\")\n",
        "plt.plot(np.arange(0, 20), hist.history[\"acc\" ], label=\"train_acc\" )\n",
        "plt.plot(np.arange(0, 20), hist.history[\"val_acc\"], label=\"val_acc\")\n",
        "plt.title(\"Training Loss and Accuracy\")\n",
        "plt.xlabel(\"Epoch #\")\n",
        "plt.ylabel(\"Loss/Accuracy\")\n",
        "plt.legend()\n",
        "plt.show()"
      ],
      "execution_count": 12,
      "outputs": [
        {
          "output_type": "stream",
          "text": [
            "[INFO] evaluating network...\n",
            "              precision    recall  f1-score   support\n",
            "\n",
            "    airplane       0.75      0.76      0.75      1000\n",
            "  automobile       0.88      0.84      0.86      1000\n",
            "        bird       0.71      0.52      0.60      1000\n",
            "         cat       0.56      0.51      0.53      1000\n",
            "        deer       0.64      0.74      0.68      1000\n",
            "         dog       0.61      0.64      0.62      1000\n",
            "        frog       0.79      0.82      0.81      1000\n",
            "       horse       0.83      0.76      0.80      1000\n",
            "        ship       0.75      0.88      0.81      1000\n",
            "       truck       0.79      0.83      0.81      1000\n",
            "\n",
            "   micro avg       0.73      0.73      0.73     10000\n",
            "   macro avg       0.73      0.73      0.73     10000\n",
            "weighted avg       0.73      0.73      0.73     10000\n",
            "\n"
          ],
          "name": "stdout"
        },
        {
          "output_type": "display_data",
          "data": {
            "image/png": "[encoded data removed]",
            "text/plain": [
              "<Figure size 432x288 with 1 Axes>"
            ]
          },
          "metadata": {
            "tags": []
          }
        }
      ]
    },
    {
      "cell_type": "markdown",
      "metadata": {
        "id": "ogT3_Hf5uyxd",
        "colab_type": "text"
      },
      "source": [
        "## VGG16"
      ]
    },
    {
      "cell_type": "code",
      "metadata": {
        "id": "lIjdxcuOxyRl",
        "colab_type": "code",
        "colab": {}
      },
      "source": [
        "from keras.models import Sequential\n",
        "from keras.layers.core import Flatten, Dense, Dropout\n",
        "from keras.layers.convolutional import Convolution2D, MaxPooling2D, ZeroPadding2D\n",
        "from keras.optimizers import SGD\n",
        "import cv2, numpy as np\n",
        "\n",
        "def VGG_16(weights_path=None):\n",
        "    model = Sequential()\n",
        "    model.add(ZeroPadding2D((1,1),input_shape=(3,224,224)))\n",
        "    model.add(Convolution2D(64, 3, 3, activation='relu'))\n",
        "    model.add(ZeroPadding2D((1,1)))\n",
        "    model.add(Convolution2D(64, 3, 3, activation='relu'))\n",
        "    model.add(MaxPooling2D((2,2), strides=(2,2)))\n",
        "\n",
        "    model.add(ZeroPadding2D((1,1)))\n",
        "    model.add(Convolution2D(128, 3, 3, activation='relu'))\n",
        "    model.add(ZeroPadding2D((1,1)))\n",
        "    model.add(Convolution2D(128, 3, 3, activation='relu'))\n",
        "    model.add(MaxPooling2D((2,2), strides=(2,2)))\n",
        "\n",
        "    model.add(ZeroPadding2D((1,1)))\n",
        "    model.add(Convolution2D(256, 3, 3, activation='relu'))\n",
        "    model.add(ZeroPadding2D((1,1)))\n",
        "    model.add(Convolution2D(256, 3, 3, activation='relu'))\n",
        "    model.add(ZeroPadding2D((1,1)))\n",
        "    model.add(Convolution2D(256, 3, 3, activation='relu'))\n",
        "    model.add(MaxPooling2D((2,2), strides=(2,2)))\n",
        "\n",
        "    model.add(ZeroPadding2D((1,1)))\n",
        "    model.add(Convolution2D(512, 3, 3, activation='relu'))\n",
        "    model.add(ZeroPadding2D((1,1)))\n",
        "    model.add(Convolution2D(512, 3, 3, activation='relu'))\n",
        "    model.add(ZeroPadding2D((1,1)))\n",
        "    model.add(Convolution2D(512, 3, 3, activation='relu'))\n",
        "    model.add(MaxPooling2D((2,2), strides=(2,2)))\n",
        "\n",
        "    model.add(ZeroPadding2D((1,1)))\n",
        "    model.add(Convolution2D(512, 3, 3, activation='relu'))\n",
        "    model.add(ZeroPadding2D((1,1)))\n",
        "    model.add(Convolution2D(512, 3, 3, activation='relu'))\n",
        "    model.add(ZeroPadding2D((1,1)))\n",
        "    model.add(Convolution2D(512, 3, 3, activation='relu'))\n",
        "    model.add(MaxPooling2D((2,2), strides=(2,2)))\n",
        "\n",
        "    model.add(Flatten())\n",
        "    model.add(Dense(4096, activation='relu'))\n",
        "    model.add(Dropout(0.5))\n",
        "    model.add(Dense(4096, activation='relu'))\n",
        "    model.add(Dropout(0.5))\n",
        "    model.add(Dense(1000, activation='softmax'))\n",
        "\n",
        "    if weights_path:\n",
        "        model.load_weights(weights_path)\n",
        "\n",
        "    return model"
      ],
      "execution_count": 0,
      "outputs": []
    },
    {
      "cell_type": "code",
      "metadata": {
        "id": "Sj1-ZD0qx1fg",
        "colab_type": "code",
        "colab": {
          "base_uri": "https://localhost:8080/",
          "height": 884
        },
        "outputId": "7e3f9b85-5258-4be2-bbbb-c3c1cc069a06"
      },
      "source": [
        "\n",
        "from keras.models import Sequential\n",
        "from keras.layers import Dense, Activation, Dropout, Flatten\n",
        "from keras.layers import Conv2D\n",
        "from keras.layers import MaxPooling2D\n",
        "\n",
        "input_shape = (32, 32, 3)\n",
        "\n",
        "#Instantiate an empty model\n",
        "model = Sequential([\n",
        "Conv2D(64, (3, 3), input_shape=input_shape, padding='same', activation='relu'),\n",
        "Conv2D(64, (3, 3), activation='relu', padding='same'),\n",
        "MaxPooling2D(pool_size=(2, 2), strides=(2, 2)),\n",
        "Conv2D(128, (3, 3), activation='relu', padding='same'),\n",
        "Conv2D(128, (3, 3), activation='relu', padding='same',),\n",
        "MaxPooling2D(pool_size=(2, 2), strides=(2, 2)),\n",
        "Conv2D(256, (3, 3), activation='relu', padding='same',),\n",
        "Conv2D(256, (3, 3), activation='relu', padding='same',),\n",
        "Conv2D(256, (3, 3), activation='relu', padding='same',),\n",
        "MaxPooling2D(pool_size=(2, 2), strides=(2, 2)),\n",
        "Conv2D(512, (3, 3), activation='relu', padding='same',),\n",
        "Conv2D(512, (3, 3), activation='relu', padding='same',),\n",
        "Conv2D(512, (3, 3), activation='relu', padding='same',),\n",
        "MaxPooling2D(pool_size=(2, 2), strides=(2, 2)),\n",
        "Conv2D(512, (3, 3), activation='relu', padding='same',),\n",
        "Conv2D(512, (3, 3), activation='relu', padding='same',),\n",
        "Conv2D(512, (3, 3), activation='relu', padding='same',),\n",
        "MaxPooling2D(pool_size=(2, 2), strides=(2, 2)),\n",
        "Flatten(),\n",
        "Dense(4096, activation='relu'),\n",
        "Dense(4096, activation='relu'),\n",
        "Dense(10, activation='softmax')\n",
        "])\n",
        "\n",
        "model.summary()\n",
        "\n",
        "# Compile the model\n",
        "model.compile(loss=keras.losses.categorical_crossentropy, optimizer='adam', metrics=[\"accuracy\"])"
      ],
      "execution_count": 19,
      "outputs": [
        {
          "output_type": "stream",
          "text": [
            "_________________________________________________________________\n",
            "Layer (type)                 Output Shape              Param #   \n",
            "=================================================================\n",
            "conv2d_12 (Conv2D)           (None, 32, 32, 64)        1792      \n",
            "_________________________________________________________________\n",
            "conv2d_13 (Conv2D)           (None, 32, 32, 64)        36928     \n",
            "_________________________________________________________________\n",
            "max_pooling2d_6 (MaxPooling2 (None, 16, 16, 64)        0         \n",
            "_________________________________________________________________\n",
            "conv2d_14 (Conv2D)           (None, 16, 16, 128)       73856     \n",
            "_________________________________________________________________\n",
            "conv2d_15 (Conv2D)           (None, 16, 16, 128)       147584    \n",
            "_________________________________________________________________\n",
            "max_pooling2d_7 (MaxPooling2 (None, 8, 8, 128)         0         \n",
            "_________________________________________________________________\n",
            "conv2d_16 (Conv2D)           (None, 8, 8, 256)         295168    \n",
            "_________________________________________________________________\n",
            "conv2d_17 (Conv2D)           (None, 8, 8, 256)         590080    \n",
            "_________________________________________________________________\n",
            "conv2d_18 (Conv2D)           (None, 8, 8, 256)         590080    \n",
            "_________________________________________________________________\n",
            "max_pooling2d_8 (MaxPooling2 (None, 4, 4, 256)         0         \n",
            "_________________________________________________________________\n",
            "conv2d_19 (Conv2D)           (None, 4, 4, 512)         1180160   \n",
            "_________________________________________________________________\n",
            "conv2d_20 (Conv2D)           (None, 4, 4, 512)         2359808   \n",
            "_________________________________________________________________\n",
            "conv2d_21 (Conv2D)           (None, 4, 4, 512)         2359808   \n",
            "_________________________________________________________________\n",
            "max_pooling2d_9 (MaxPooling2 (None, 2, 2, 512)         0         \n",
            "_________________________________________________________________\n",
            "conv2d_22 (Conv2D)           (None, 2, 2, 512)         2359808   \n",
            "_________________________________________________________________\n",
            "conv2d_23 (Conv2D)           (None, 2, 2, 512)         2359808   \n",
            "_________________________________________________________________\n",
            "conv2d_24 (Conv2D)           (None, 2, 2, 512)         2359808   \n",
            "_________________________________________________________________\n",
            "max_pooling2d_10 (MaxPooling (None, 1, 1, 512)         0         \n",
            "_________________________________________________________________\n",
            "flatten_3 (Flatten)          (None, 512)               0         \n",
            "_________________________________________________________________\n",
            "dense_5 (Dense)              (None, 4096)              2101248   \n",
            "_________________________________________________________________\n",
            "dense_6 (Dense)              (None, 4096)              16781312  \n",
            "_________________________________________________________________\n",
            "dense_7 (Dense)              (None, 10)                40970     \n",
            "=================================================================\n",
            "Total params: 33,638,218\n",
            "Trainable params: 33,638,218\n",
            "Non-trainable params: 0\n",
            "_________________________________________________________________\n"
          ],
          "name": "stdout"
        }
      ]
    },
    {
      "cell_type": "code",
      "metadata": {
        "id": "z0iFAwIUx3Ot",
        "colab_type": "code",
        "colab": {}
      },
      "source": [
        "opt = SGD(lr=0.01)\n",
        "model.compile(loss='categorical_crossentropy', optimizer=opt, \n",
        "                  metrics=['accuracy'])"
      ],
      "execution_count": 0,
      "outputs": []
    },
    {
      "cell_type": "code",
      "metadata": {
        "id": "MkuIP4U4x9yE",
        "colab_type": "code",
        "colab": {
          "base_uri": "https://localhost:8080/",
          "height": 1394
        },
        "outputId": "083076de-0092-401e-9014-81e41d762083"
      },
      "source": [
        "checkpointer = ModelCheckpoint(filepath='model.weights.best.hdf5', verbose=1, \n",
        "                               save_best_only=True)\n",
        "hist = model.fit(x_train, y_train, batch_size=128, epochs=20,\n",
        "          validation_data=(x_valid, y_valid), callbacks=[checkpointer], \n",
        "          verbose=2, shuffle=True)"
      ],
      "execution_count": 21,
      "outputs": [
        {
          "output_type": "stream",
          "text": [
            "Train on 45000 samples, validate on 5000 samples\n",
            "Epoch 1/20\n",
            " - 29s - loss: 2.3025 - acc: 0.1006 - val_loss: 2.3025 - val_acc: 0.0920\n",
            "\n",
            "Epoch 00001: val_loss improved from inf to 2.30253, saving model to model.weights.best.hdf5\n",
            "Epoch 2/20\n",
            " - 24s - loss: 2.3024 - acc: 0.1019 - val_loss: 2.3025 - val_acc: 0.1004\n",
            "\n",
            "Epoch 00002: val_loss improved from 2.30253 to 2.30247, saving model to model.weights.best.hdf5\n",
            "Epoch 3/20\n",
            " - 24s - loss: 2.3023 - acc: 0.1023 - val_loss: 2.3023 - val_acc: 0.0972\n",
            "\n",
            "Epoch 00003: val_loss improved from 2.30247 to 2.30231, saving model to model.weights.best.hdf5\n",
            "Epoch 4/20\n",
            " - 24s - loss: 2.3022 - acc: 0.1030 - val_loss: 2.3021 - val_acc: 0.0920\n",
            "\n",
            "Epoch 00004: val_loss improved from 2.30231 to 2.30212, saving model to model.weights.best.hdf5\n",
            "Epoch 5/20\n",
            " - 24s - loss: 2.3019 - acc: 0.1106 - val_loss: 2.3018 - val_acc: 0.0920\n",
            "\n",
            "Epoch 00005: val_loss improved from 2.30212 to 2.30183, saving model to model.weights.best.hdf5\n",
            "Epoch 6/20\n",
            " - 24s - loss: 2.3015 - acc: 0.1163 - val_loss: 2.3013 - val_acc: 0.0920\n",
            "\n",
            "Epoch 00006: val_loss improved from 2.30183 to 2.30129, saving model to model.weights.best.hdf5\n",
            "Epoch 7/20\n",
            " - 24s - loss: 2.3008 - acc: 0.1222 - val_loss: 2.3001 - val_acc: 0.1018\n",
            "\n",
            "Epoch 00007: val_loss improved from 2.30129 to 2.30009, saving model to model.weights.best.hdf5\n",
            "Epoch 8/20\n",
            " - 24s - loss: 2.2991 - acc: 0.1627 - val_loss: 2.2974 - val_acc: 0.1342\n",
            "\n",
            "Epoch 00008: val_loss improved from 2.30009 to 2.29743, saving model to model.weights.best.hdf5\n",
            "Epoch 9/20\n",
            " - 24s - loss: 2.2945 - acc: 0.1620 - val_loss: 2.2891 - val_acc: 0.1962\n",
            "\n",
            "Epoch 00009: val_loss improved from 2.29743 to 2.28909, saving model to model.weights.best.hdf5\n",
            "Epoch 10/20\n",
            " - 24s - loss: 2.2770 - acc: 0.1887 - val_loss: 2.2500 - val_acc: 0.2010\n",
            "\n",
            "Epoch 00010: val_loss improved from 2.28909 to 2.24996, saving model to model.weights.best.hdf5\n",
            "Epoch 11/20\n",
            " - 24s - loss: 2.1900 - acc: 0.1805 - val_loss: 2.1363 - val_acc: 0.1956\n",
            "\n",
            "Epoch 00011: val_loss improved from 2.24996 to 2.13635, saving model to model.weights.best.hdf5\n",
            "Epoch 12/20\n",
            " - 24s - loss: 2.1169 - acc: 0.2022 - val_loss: 2.1965 - val_acc: 0.1820\n",
            "\n",
            "Epoch 00012: val_loss did not improve from 2.13635\n",
            "Epoch 13/20\n",
            " - 24s - loss: 2.0721 - acc: 0.2280 - val_loss: 2.1246 - val_acc: 0.2006\n",
            "\n",
            "Epoch 00013: val_loss improved from 2.13635 to 2.12464, saving model to model.weights.best.hdf5\n",
            "Epoch 14/20\n",
            " - 24s - loss: 2.0274 - acc: 0.2425 - val_loss: 2.0680 - val_acc: 0.2232\n",
            "\n",
            "Epoch 00014: val_loss improved from 2.12464 to 2.06795, saving model to model.weights.best.hdf5\n",
            "Epoch 15/20\n",
            " - 24s - loss: 1.9950 - acc: 0.2581 - val_loss: 1.9628 - val_acc: 0.2606\n",
            "\n",
            "Epoch 00015: val_loss improved from 2.06795 to 1.96281, saving model to model.weights.best.hdf5\n",
            "Epoch 16/20\n",
            " - 24s - loss: 1.9554 - acc: 0.2717 - val_loss: 1.9429 - val_acc: 0.2668\n",
            "\n",
            "Epoch 00016: val_loss improved from 1.96281 to 1.94291, saving model to model.weights.best.hdf5\n",
            "Epoch 17/20\n",
            " - 24s - loss: 1.9262 - acc: 0.2800 - val_loss: 2.0134 - val_acc: 0.2548\n",
            "\n",
            "Epoch 00017: val_loss did not improve from 1.94291\n",
            "Epoch 18/20\n",
            " - 24s - loss: 1.8908 - acc: 0.2903 - val_loss: 1.8380 - val_acc: 0.2982\n",
            "\n",
            "Epoch 00018: val_loss improved from 1.94291 to 1.83804, saving model to model.weights.best.hdf5\n",
            "Epoch 19/20\n",
            " - 24s - loss: 1.8522 - acc: 0.3031 - val_loss: 1.8056 - val_acc: 0.3206\n",
            "\n",
            "Epoch 00019: val_loss improved from 1.83804 to 1.80563, saving model to model.weights.best.hdf5\n",
            "Epoch 20/20\n",
            " - 24s - loss: 1.8168 - acc: 0.3158 - val_loss: 1.9200 - val_acc: 0.2774\n",
            "\n",
            "Epoch 00020: val_loss did not improve from 1.80563\n"
          ],
          "name": "stdout"
        }
      ]
    },
    {
      "cell_type": "code",
      "metadata": {
        "id": "SAn-Sys90E8x",
        "colab_type": "code",
        "colab": {
          "base_uri": "https://localhost:8080/",
          "height": 51
        },
        "outputId": "db90bd84-638f-424e-9a52-21bca122cf86"
      },
      "source": [
        "model.load_weights('model.weights.best.hdf5')\n",
        "\n",
        "score = model.evaluate(x_test, y_test, verbose=0)\n",
        "print('\\n', 'Test accuracy:', score[1])"
      ],
      "execution_count": 22,
      "outputs": [
        {
          "output_type": "stream",
          "text": [
            "\n",
            " Test accuracy: 0.3218\n"
          ],
          "name": "stdout"
        }
      ]
    },
    {
      "cell_type": "code",
      "metadata": {
        "id": "eoM-hvbr0Lx4",
        "colab_type": "code",
        "colab": {
          "base_uri": "https://localhost:8080/",
          "height": 605
        },
        "outputId": "884ffefa-5ad1-42e5-c4bc-9d7ce2a7b832"
      },
      "source": [
        "# evaluate the network\n",
        "print(\"[INFO] evaluating network...\")\n",
        "\n",
        "# get predictions on the test set\n",
        "predictions = model.predict(x_test, batch_size=128)\n",
        "\n",
        "# define text labels (source: https://www.cs.toronto.edu/~kriz/cifar.html)\n",
        "cifar10_labels = ['airplane', 'automobile', 'bird', 'cat', 'deer', 'dog', 'frog', 'horse', 'ship', 'truck']\n",
        "\n",
        "\n",
        "print(classification_report(y_test.argmax(axis=1),\n",
        "predictions.argmax(axis=1),\n",
        "target_names=cifar10_labels))\n",
        "\n",
        "# plot the training loss and accuracy\n",
        "plt.style.use(\"ggplot\")\n",
        "plt.figure()\n",
        "plt.plot(np.arange(0, 20), hist.history[\"loss\"], label=\"train_loss\" )\n",
        "plt.plot(np.arange(0, 20), hist.history[\"val_loss\"], label=\"val_loss\")\n",
        "plt.plot(np.arange(0, 20), hist.history[\"acc\" ], label=\"train_acc\" )\n",
        "plt.plot(np.arange(0, 20), hist.history[\"val_acc\"], label=\"val_acc\")\n",
        "plt.title(\"Training Loss and Accuracy\")\n",
        "plt.xlabel(\"Epoch #\")\n",
        "plt.ylabel(\"Loss/Accuracy\")\n",
        "plt.legend()\n",
        "plt.show()"
      ],
      "execution_count": 23,
      "outputs": [
        {
          "output_type": "stream",
          "text": [
            "[INFO] evaluating network...\n",
            "              precision    recall  f1-score   support\n",
            "\n",
            "    airplane       0.47      0.35      0.41      1000\n",
            "  automobile       0.35      0.67      0.46      1000\n",
            "        bird       0.07      0.00      0.00      1000\n",
            "         cat       0.23      0.04      0.07      1000\n",
            "        deer       0.41      0.09      0.15      1000\n",
            "         dog       0.26      0.43      0.33      1000\n",
            "        frog       0.25      0.65      0.36      1000\n",
            "       horse       0.36      0.40      0.38      1000\n",
            "        ship       0.42      0.19      0.26      1000\n",
            "       truck       0.37      0.40      0.38      1000\n",
            "\n",
            "   micro avg       0.32      0.32      0.32     10000\n",
            "   macro avg       0.32      0.32      0.28     10000\n",
            "weighted avg       0.32      0.32      0.28     10000\n",
            "\n"
          ],
          "name": "stdout"
        },
        {
          "output_type": "display_data",
          "data": {
            "image/png": "[encoded data removed]",
            "text/plain": [
              "<Figure size 432x288 with 1 Axes>"
            ]
          },
          "metadata": {
            "tags": []
          }
        }
      ]
    },
    {
      "cell_type": "markdown",
      "metadata": {
        "id": "M4fK-so-xvHC",
        "colab_type": "text"
      },
      "source": [
        "## NewMiniVGG"
      ]
    },
    {
      "cell_type": "code",
      "metadata": {
        "id": "Wu5BhMSKu2it",
        "colab_type": "code",
        "colab": {}
      },
      "source": [
        "from keras.layers.normalization import BatchNormalization\n",
        "from keras.layers.core import Dropout\n",
        "\n",
        "def build_NewMiniVGG(width, height, depth, classes):\n",
        "  # initialize the model\n",
        "  model = Sequential()\n",
        "  inputShape = (height, width, depth)\n",
        "  model.add(Conv2D(32, (3, 3), padding=\"same\",\n",
        "  input_shape=inputShape))\n",
        "  model.add(Activation(\"relu\"))\n",
        "  model.add(BatchNormalization(axis=2))\n",
        "  model.add(Conv2D(64, (3, 3), padding=\"same\"))\n",
        "  model.add(Activation(\"relu\"))\n",
        "  model.add(BatchNormalization(axis=2))\n",
        "  model.add(MaxPooling2D(pool_size=(2, 2)))\n",
        "  model.add(Dropout(0.25))\n",
        "  \n",
        "  # second CONV => RELU => CONV => RELU => POOL layer set\n",
        "  model.add(Conv2D(64, (3, 3), padding=\"same\"))\n",
        "  model.add(Activation(\"relu\"))\n",
        "  model.add(BatchNormalization(axis=2))\n",
        "  model.add(Conv2D(128, (3, 3), padding=\"same\"))\n",
        "  model.add(Activation(\"relu\"))\n",
        "  model.add(BatchNormalization(axis=2))\n",
        "  model.add(MaxPooling2D(pool_size=(2, 2)))\n",
        "  model.add(Dropout(0.25))\n",
        "  \n",
        "  # third CONV => RELU => CONV => RELU => CONV => RELU => POOL layer set\n",
        "  model.add(Conv2D(256, (3, 3), padding=\"same\"))\n",
        "  model.add(Activation(\"relu\"))\n",
        "  model.add(BatchNormalization(axis=2))\n",
        "  model.add(Conv2D(512, (3, 3), padding=\"same\"))\n",
        "  model.add(Activation(\"relu\"))\n",
        "  model.add(BatchNormalization(axis=2))\n",
        "  model.add(Conv2D(512, (3, 3), padding=\"same\"))\n",
        "  model.add(Activation(\"relu\"))\n",
        "  model.add(BatchNormalization(axis=2))\n",
        "  model.add(MaxPooling2D(pool_size=(2, 2)))\n",
        "  model.add(Dropout(0.25))\n",
        "  \n",
        "  # first (and only) set of FC => RELU layers\n",
        "  model.add(Flatten())\n",
        "  model.add(Dense(512))\n",
        "  model.add(Activation(\"relu\"))\n",
        "  model.add(BatchNormalization())\n",
        "  model.add(Dropout(0.5))\n",
        "  \n",
        "  # softmax classifier\n",
        "  model.add(Dense(classes))\n",
        "  model.add(Activation(\"softmax\"))\n",
        "  \n",
        "  model.summary()\n",
        "  \n",
        "  # return the constructed network architecture\n",
        "  return model"
      ],
      "execution_count": 0,
      "outputs": []
    },
    {
      "cell_type": "code",
      "metadata": {
        "id": "-tXruRGCu8qm",
        "colab_type": "code",
        "colab": {
          "base_uri": "https://localhost:8080/",
          "height": 1292
        },
        "outputId": "577607cd-05ed-4235-a2be-bc05e7927991"
      },
      "source": [
        "opt = SGD(lr=0.01)\n",
        "model = build_NewMiniVGG(width=32, height=32, depth=3, classes=10)\n",
        "model.compile(loss='categorical_crossentropy', optimizer=opt, \n",
        "                  metrics=['accuracy'])"
      ],
      "execution_count": 14,
      "outputs": [
        {
          "output_type": "stream",
          "text": [
            "_________________________________________________________________\n",
            "Layer (type)                 Output Shape              Param #   \n",
            "=================================================================\n",
            "conv2d_5 (Conv2D)            (None, 32, 32, 32)        896       \n",
            "_________________________________________________________________\n",
            "activation_7 (Activation)    (None, 32, 32, 32)        0         \n",
            "_________________________________________________________________\n",
            "batch_normalization_6 (Batch (None, 32, 32, 32)        128       \n",
            "_________________________________________________________________\n",
            "conv2d_6 (Conv2D)            (None, 32, 32, 64)        18496     \n",
            "_________________________________________________________________\n",
            "activation_8 (Activation)    (None, 32, 32, 64)        0         \n",
            "_________________________________________________________________\n",
            "batch_normalization_7 (Batch (None, 32, 32, 64)        128       \n",
            "_________________________________________________________________\n",
            "max_pooling2d_3 (MaxPooling2 (None, 16, 16, 64)        0         \n",
            "_________________________________________________________________\n",
            "dropout_4 (Dropout)          (None, 16, 16, 64)        0         \n",
            "_________________________________________________________________\n",
            "conv2d_7 (Conv2D)            (None, 16, 16, 64)        36928     \n",
            "_________________________________________________________________\n",
            "activation_9 (Activation)    (None, 16, 16, 64)        0         \n",
            "_________________________________________________________________\n",
            "batch_normalization_8 (Batch (None, 16, 16, 64)        64        \n",
            "_________________________________________________________________\n",
            "conv2d_8 (Conv2D)            (None, 16, 16, 128)       73856     \n",
            "_________________________________________________________________\n",
            "activation_10 (Activation)   (None, 16, 16, 128)       0         \n",
            "_________________________________________________________________\n",
            "batch_normalization_9 (Batch (None, 16, 16, 128)       64        \n",
            "_________________________________________________________________\n",
            "max_pooling2d_4 (MaxPooling2 (None, 8, 8, 128)         0         \n",
            "_________________________________________________________________\n",
            "dropout_5 (Dropout)          (None, 8, 8, 128)         0         \n",
            "_________________________________________________________________\n",
            "conv2d_9 (Conv2D)            (None, 8, 8, 256)         295168    \n",
            "_________________________________________________________________\n",
            "activation_11 (Activation)   (None, 8, 8, 256)         0         \n",
            "_________________________________________________________________\n",
            "batch_normalization_10 (Batc (None, 8, 8, 256)         32        \n",
            "_________________________________________________________________\n",
            "conv2d_10 (Conv2D)           (None, 8, 8, 512)         1180160   \n",
            "_________________________________________________________________\n",
            "activation_12 (Activation)   (None, 8, 8, 512)         0         \n",
            "_________________________________________________________________\n",
            "batch_normalization_11 (Batc (None, 8, 8, 512)         32        \n",
            "_________________________________________________________________\n",
            "conv2d_11 (Conv2D)           (None, 8, 8, 512)         2359808   \n",
            "_________________________________________________________________\n",
            "activation_13 (Activation)   (None, 8, 8, 512)         0         \n",
            "_________________________________________________________________\n",
            "batch_normalization_12 (Batc (None, 8, 8, 512)         32        \n",
            "_________________________________________________________________\n",
            "max_pooling2d_5 (MaxPooling2 (None, 4, 4, 512)         0         \n",
            "_________________________________________________________________\n",
            "dropout_6 (Dropout)          (None, 4, 4, 512)         0         \n",
            "_________________________________________________________________\n",
            "flatten_2 (Flatten)          (None, 8192)              0         \n",
            "_________________________________________________________________\n",
            "dense_3 (Dense)              (None, 512)               4194816   \n",
            "_________________________________________________________________\n",
            "activation_14 (Activation)   (None, 512)               0         \n",
            "_________________________________________________________________\n",
            "batch_normalization_13 (Batc (None, 512)               2048      \n",
            "_________________________________________________________________\n",
            "dropout_7 (Dropout)          (None, 512)               0         \n",
            "_________________________________________________________________\n",
            "dense_4 (Dense)              (None, 10)                5130      \n",
            "_________________________________________________________________\n",
            "activation_15 (Activation)   (None, 10)                0         \n",
            "=================================================================\n",
            "Total params: 8,167,786\n",
            "Trainable params: 8,166,522\n",
            "Non-trainable params: 1,264\n",
            "_________________________________________________________________\n"
          ],
          "name": "stdout"
        }
      ]
    },
    {
      "cell_type": "code",
      "metadata": {
        "id": "GLuuo_wiu7ZC",
        "colab_type": "code",
        "colab": {
          "base_uri": "https://localhost:8080/",
          "height": 1394
        },
        "outputId": "50ee1fe3-ba92-4c2b-8cf0-88733bffc55d"
      },
      "source": [
        "from keras.callbacks import ModelCheckpoint   \n",
        "\n",
        "# train the model\n",
        "checkpointer = ModelCheckpoint(filepath='model.weights.best.newvgg.hdf5', verbose=1, \n",
        "                               save_best_only=True)\n",
        "hist = model.fit(x_train, y_train, batch_size=128, epochs=20,\n",
        "          validation_data=(x_valid, y_valid), callbacks=[checkpointer], \n",
        "          verbose=2, shuffle=True)"
      ],
      "execution_count": 15,
      "outputs": [
        {
          "output_type": "stream",
          "text": [
            "Train on 45000 samples, validate on 5000 samples\n",
            "Epoch 1/20\n",
            " - 31s - loss: 2.2214 - acc: 0.2943 - val_loss: 1.9029 - val_acc: 0.3396\n",
            "\n",
            "Epoch 00001: val_loss improved from inf to 1.90289, saving model to model.weights.best.newvgg.hdf5\n",
            "Epoch 2/20\n",
            " - 27s - loss: 1.6543 - acc: 0.4328 - val_loss: 2.0370 - val_acc: 0.3464\n",
            "\n",
            "Epoch 00002: val_loss did not improve from 1.90289\n",
            "Epoch 3/20\n",
            " - 27s - loss: 1.4191 - acc: 0.5059 - val_loss: 1.7863 - val_acc: 0.4274\n",
            "\n",
            "Epoch 00003: val_loss improved from 1.90289 to 1.78635, saving model to model.weights.best.newvgg.hdf5\n",
            "Epoch 4/20\n",
            " - 27s - loss: 1.2495 - acc: 0.5612 - val_loss: 1.2415 - val_acc: 0.5648\n",
            "\n",
            "Epoch 00004: val_loss improved from 1.78635 to 1.24155, saving model to model.weights.best.newvgg.hdf5\n",
            "Epoch 5/20\n",
            " - 27s - loss: 1.1236 - acc: 0.6027 - val_loss: 1.0701 - val_acc: 0.6128\n",
            "\n",
            "Epoch 00005: val_loss improved from 1.24155 to 1.07011, saving model to model.weights.best.newvgg.hdf5\n",
            "Epoch 6/20\n",
            " - 27s - loss: 1.0308 - acc: 0.6368 - val_loss: 1.1106 - val_acc: 0.6092\n",
            "\n",
            "Epoch 00006: val_loss did not improve from 1.07011\n",
            "Epoch 7/20\n",
            " - 27s - loss: 0.9605 - acc: 0.6602 - val_loss: 1.3083 - val_acc: 0.5614\n",
            "\n",
            "Epoch 00007: val_loss did not improve from 1.07011\n",
            "Epoch 8/20\n",
            " - 27s - loss: 0.8945 - acc: 0.6826 - val_loss: 0.9189 - val_acc: 0.6784\n",
            "\n",
            "Epoch 00008: val_loss improved from 1.07011 to 0.91885, saving model to model.weights.best.newvgg.hdf5\n",
            "Epoch 9/20\n",
            " - 27s - loss: 0.8432 - acc: 0.7035 - val_loss: 0.8938 - val_acc: 0.6828\n",
            "\n",
            "Epoch 00009: val_loss improved from 0.91885 to 0.89376, saving model to model.weights.best.newvgg.hdf5\n",
            "Epoch 10/20\n",
            " - 27s - loss: 0.7918 - acc: 0.7163 - val_loss: 0.8570 - val_acc: 0.6992\n",
            "\n",
            "Epoch 00010: val_loss improved from 0.89376 to 0.85701, saving model to model.weights.best.newvgg.hdf5\n",
            "Epoch 11/20\n",
            " - 27s - loss: 0.7542 - acc: 0.7347 - val_loss: 0.8062 - val_acc: 0.7238\n",
            "\n",
            "Epoch 00011: val_loss improved from 0.85701 to 0.80622, saving model to model.weights.best.newvgg.hdf5\n",
            "Epoch 12/20\n",
            " - 27s - loss: 0.7185 - acc: 0.7473 - val_loss: 0.7648 - val_acc: 0.7360\n",
            "\n",
            "Epoch 00012: val_loss improved from 0.80622 to 0.76477, saving model to model.weights.best.newvgg.hdf5\n",
            "Epoch 13/20\n",
            " - 27s - loss: 0.6811 - acc: 0.7611 - val_loss: 0.7602 - val_acc: 0.7404\n",
            "\n",
            "Epoch 00013: val_loss improved from 0.76477 to 0.76023, saving model to model.weights.best.newvgg.hdf5\n",
            "Epoch 14/20\n",
            " - 27s - loss: 0.6517 - acc: 0.7700 - val_loss: 0.7010 - val_acc: 0.7620\n",
            "\n",
            "Epoch 00014: val_loss improved from 0.76023 to 0.70095, saving model to model.weights.best.newvgg.hdf5\n",
            "Epoch 15/20\n",
            " - 27s - loss: 0.6176 - acc: 0.7834 - val_loss: 0.7451 - val_acc: 0.7498\n",
            "\n",
            "Epoch 00015: val_loss did not improve from 0.70095\n",
            "Epoch 16/20\n",
            " - 27s - loss: 0.5924 - acc: 0.7922 - val_loss: 0.7341 - val_acc: 0.7504\n",
            "\n",
            "Epoch 00016: val_loss did not improve from 0.70095\n",
            "Epoch 17/20\n",
            " - 27s - loss: 0.5656 - acc: 0.7984 - val_loss: 0.6751 - val_acc: 0.7730\n",
            "\n",
            "Epoch 00017: val_loss improved from 0.70095 to 0.67508, saving model to model.weights.best.newvgg.hdf5\n",
            "Epoch 18/20\n",
            " - 27s - loss: 0.5360 - acc: 0.8103 - val_loss: 0.6246 - val_acc: 0.7858\n",
            "\n",
            "Epoch 00018: val_loss improved from 0.67508 to 0.62461, saving model to model.weights.best.newvgg.hdf5\n",
            "Epoch 19/20\n",
            " - 27s - loss: 0.5188 - acc: 0.8158 - val_loss: 0.5893 - val_acc: 0.8022\n",
            "\n",
            "Epoch 00019: val_loss improved from 0.62461 to 0.58932, saving model to model.weights.best.newvgg.hdf5\n",
            "Epoch 20/20\n",
            " - 27s - loss: 0.4912 - acc: 0.8263 - val_loss: 0.6647 - val_acc: 0.7796\n",
            "\n",
            "Epoch 00020: val_loss did not improve from 0.58932\n"
          ],
          "name": "stdout"
        }
      ]
    },
    {
      "cell_type": "code",
      "metadata": {
        "id": "YfIqJO53vHvH",
        "colab_type": "code",
        "colab": {
          "base_uri": "https://localhost:8080/",
          "height": 51
        },
        "outputId": "f04da4dd-388b-436c-eadd-a23fe722c59f"
      },
      "source": [
        "model.load_weights('model.weights.best.newvgg.hdf5')\n",
        "\n",
        "score = model.evaluate(x_test, y_test, verbose=0)\n",
        "print('\\n', 'Test accuracy:', score[1])"
      ],
      "execution_count": 16,
      "outputs": [
        {
          "output_type": "stream",
          "text": [
            "\n",
            " Test accuracy: 0.7857\n"
          ],
          "name": "stdout"
        }
      ]
    },
    {
      "cell_type": "code",
      "metadata": {
        "id": "y9Sw1E-jvICm",
        "colab_type": "code",
        "colab": {
          "base_uri": "https://localhost:8080/",
          "height": 605
        },
        "outputId": "a10e1923-b05d-4738-b784-2e03258fc87d"
      },
      "source": [
        "# evaluate the network\n",
        "print(\"[INFO] evaluating network...\")\n",
        "\n",
        "# get predictions on the test set\n",
        "predictions = model.predict(x_test, batch_size=128)\n",
        "\n",
        "# define text labels (source: https://www.cs.toronto.edu/~kriz/cifar.html)\n",
        "cifar10_labels = ['airplane', 'automobile', 'bird', 'cat', 'deer', 'dog', 'frog',\n",
        "                  'horse', 'ship', 'truck']\n",
        "\n",
        "\n",
        "print(classification_report(y_test.argmax(axis=1),\n",
        "predictions.argmax(axis=1),\n",
        "target_names=cifar10_labels))\n",
        "\n",
        "# plot the training loss and accuracy\n",
        "plt.style.use(\"ggplot\")\n",
        "plt.figure()\n",
        "plt.plot(np.arange(0, 20), hist.history[\"loss\"], label=\"train_loss\" )\n",
        "plt.plot(np.arange(0, 20), hist.history[\"val_loss\"], label=\"val_loss\")\n",
        "plt.plot(np.arange(0, 20), hist.history[\"acc\" ], label=\"train_acc\" )\n",
        "plt.plot(np.arange(0, 20), hist.history[\"val_acc\"], label=\"val_acc\")\n",
        "plt.title(\"Training Loss and Accuracy\")\n",
        "plt.xlabel(\"Epoch #\")\n",
        "plt.ylabel(\"Loss/Accuracy\")\n",
        "plt.legend()\n",
        "plt.show()"
      ],
      "execution_count": 17,
      "outputs": [
        {
          "output_type": "stream",
          "text": [
            "[INFO] evaluating network...\n",
            "              precision    recall  f1-score   support\n",
            "\n",
            "    airplane       0.79      0.83      0.81      1000\n",
            "  automobile       0.91      0.89      0.90      1000\n",
            "        bird       0.77      0.64      0.70      1000\n",
            "         cat       0.61      0.65      0.63      1000\n",
            "        deer       0.64      0.86      0.73      1000\n",
            "         dog       0.79      0.58      0.67      1000\n",
            "        frog       0.77      0.90      0.83      1000\n",
            "       horse       0.90      0.77      0.83      1000\n",
            "        ship       0.88      0.89      0.89      1000\n",
            "       truck       0.90      0.85      0.88      1000\n",
            "\n",
            "   micro avg       0.79      0.79      0.79     10000\n",
            "   macro avg       0.79      0.79      0.79     10000\n",
            "weighted avg       0.79      0.79      0.79     10000\n",
            "\n"
          ],
          "name": "stdout"
        },
        {
          "output_type": "display_data",
          "data": {
            "image/png": "[encoded data removed]",
            "text/plain": [
              "<Figure size 432x288 with 1 Axes>"
            ]
          },
          "metadata": {
            "tags": []
          }
        }
      ]
    },
    {
      "cell_type": "markdown",
      "metadata": {
        "id": "2swIuP4l0q22",
        "colab_type": "text"
      },
      "source": [
        "## LeNet"
      ]
    },
    {
      "cell_type": "code",
      "metadata": {
        "id": "2UtDG47wvIRK",
        "colab_type": "code",
        "colab": {}
      },
      "source": [
        "def build_LeNet(width, height, depth, classes):\n",
        "  # initialize the model\n",
        "  model = Sequential()\n",
        "  inputShape = (height, width, depth)\n",
        "\n",
        "  # first set of CONV => RELU => POOL layers\n",
        "  model.add(Conv2D(20, (5, 5), padding=\"same\",\n",
        "    input_shape=inputShape))\n",
        "  model.add(Activation(\"relu\"))\n",
        "  model.add(MaxPooling2D(pool_size=(2, 2), strides=(2, 2)))\n",
        "\n",
        "  # second set of CONV => RELU => POOL layers\n",
        "  model.add(Conv2D(50, (5, 5), padding=\"same\"))\n",
        "  model.add(Activation(\"relu\"))\n",
        "  model.add(MaxPooling2D(pool_size=(2, 2), strides=(2, 2)))\n",
        "\n",
        "  # first (and only) set of FC => RELU layers\n",
        "  model.add(Flatten())\n",
        "  model.add(Dense(500))\n",
        "  model.add(Activation(\"relu\"))\n",
        "\n",
        "  # softmax classifier\n",
        "  model.add(Dense(classes))\n",
        "  model.add(Activation(\"softmax\"))\n",
        "  \n",
        "  model.summary()\n",
        "  \n",
        "  # return the constructed network architecture\n",
        "  return model"
      ],
      "execution_count": 0,
      "outputs": []
    },
    {
      "cell_type": "code",
      "metadata": {
        "id": "vyBH5PIc0zsI",
        "colab_type": "code",
        "colab": {
          "base_uri": "https://localhost:8080/",
          "height": 510
        },
        "outputId": "053d3717-d518-43d9-c224-3e0608c7443e"
      },
      "source": [
        "opt = SGD(lr=0.01)\n",
        "model = build_LeNet(width=32, height=32, depth=3, classes=10)\n",
        "model.compile(loss='categorical_crossentropy', optimizer=opt, \n",
        "                  metrics=['accuracy'])"
      ],
      "execution_count": 26,
      "outputs": [
        {
          "output_type": "stream",
          "text": [
            "_________________________________________________________________\n",
            "Layer (type)                 Output Shape              Param #   \n",
            "=================================================================\n",
            "conv2d_25 (Conv2D)           (None, 32, 32, 20)        1520      \n",
            "_________________________________________________________________\n",
            "activation_16 (Activation)   (None, 32, 32, 20)        0         \n",
            "_________________________________________________________________\n",
            "max_pooling2d_11 (MaxPooling (None, 16, 16, 20)        0         \n",
            "_________________________________________________________________\n",
            "conv2d_26 (Conv2D)           (None, 16, 16, 50)        25050     \n",
            "_________________________________________________________________\n",
            "activation_17 (Activation)   (None, 16, 16, 50)        0         \n",
            "_________________________________________________________________\n",
            "max_pooling2d_12 (MaxPooling (None, 8, 8, 50)          0         \n",
            "_________________________________________________________________\n",
            "flatten_4 (Flatten)          (None, 3200)              0         \n",
            "_________________________________________________________________\n",
            "dense_8 (Dense)              (None, 500)               1600500   \n",
            "_________________________________________________________________\n",
            "activation_18 (Activation)   (None, 500)               0         \n",
            "_________________________________________________________________\n",
            "dense_9 (Dense)              (None, 10)                5010      \n",
            "_________________________________________________________________\n",
            "activation_19 (Activation)   (None, 10)                0         \n",
            "=================================================================\n",
            "Total params: 1,632,080\n",
            "Trainable params: 1,632,080\n",
            "Non-trainable params: 0\n",
            "_________________________________________________________________\n"
          ],
          "name": "stdout"
        }
      ]
    },
    {
      "cell_type": "code",
      "metadata": {
        "id": "B3PiIQu41H2e",
        "colab_type": "code",
        "colab": {
          "base_uri": "https://localhost:8080/",
          "height": 1394
        },
        "outputId": "f9836680-f6fa-4418-d4df-a5a4a9bb570d"
      },
      "source": [
        "from keras.callbacks import ModelCheckpoint   \n",
        "\n",
        "# train the model\n",
        "checkpointer = ModelCheckpoint(filepath='model.weights.best.lenet.hdf5', verbose=1, \n",
        "                               save_best_only=True)\n",
        "hist = model.fit(x_train, y_train, batch_size=128, epochs=20,\n",
        "          validation_data=(x_valid, y_valid), callbacks=[checkpointer], \n",
        "          verbose=2, shuffle=True)"
      ],
      "execution_count": 27,
      "outputs": [
        {
          "output_type": "stream",
          "text": [
            "Train on 45000 samples, validate on 5000 samples\n",
            "Epoch 1/20\n",
            " - 4s - loss: 2.1323 - acc: 0.2310 - val_loss: 1.9765 - val_acc: 0.2982\n",
            "\n",
            "Epoch 00001: val_loss improved from inf to 1.97647, saving model to model.weights.best.lenet.hdf5\n",
            "Epoch 2/20\n",
            " - 3s - loss: 1.8795 - acc: 0.3365 - val_loss: 1.8076 - val_acc: 0.3622\n",
            "\n",
            "Epoch 00002: val_loss improved from 1.97647 to 1.80760, saving model to model.weights.best.lenet.hdf5\n",
            "Epoch 3/20\n",
            " - 3s - loss: 1.7299 - acc: 0.3911 - val_loss: 1.6473 - val_acc: 0.4214\n",
            "\n",
            "Epoch 00003: val_loss improved from 1.80760 to 1.64732, saving model to model.weights.best.lenet.hdf5\n",
            "Epoch 4/20\n",
            " - 3s - loss: 1.6179 - acc: 0.4258 - val_loss: 1.5443 - val_acc: 0.4474\n",
            "\n",
            "Epoch 00004: val_loss improved from 1.64732 to 1.54434, saving model to model.weights.best.lenet.hdf5\n",
            "Epoch 5/20\n",
            " - 3s - loss: 1.5279 - acc: 0.4603 - val_loss: 1.5213 - val_acc: 0.4628\n",
            "\n",
            "Epoch 00005: val_loss improved from 1.54434 to 1.52130, saving model to model.weights.best.lenet.hdf5\n",
            "Epoch 6/20\n",
            " - 3s - loss: 1.4661 - acc: 0.4819 - val_loss: 1.5999 - val_acc: 0.4416\n",
            "\n",
            "Epoch 00006: val_loss did not improve from 1.52130\n",
            "Epoch 7/20\n",
            " - 3s - loss: 1.4147 - acc: 0.5009 - val_loss: 1.4541 - val_acc: 0.4710\n",
            "\n",
            "Epoch 00007: val_loss improved from 1.52130 to 1.45407, saving model to model.weights.best.lenet.hdf5\n",
            "Epoch 8/20\n",
            " - 3s - loss: 1.3706 - acc: 0.5186 - val_loss: 1.4373 - val_acc: 0.4820\n",
            "\n",
            "Epoch 00008: val_loss improved from 1.45407 to 1.43726, saving model to model.weights.best.lenet.hdf5\n",
            "Epoch 9/20\n",
            " - 3s - loss: 1.3331 - acc: 0.5324 - val_loss: 1.3077 - val_acc: 0.5344\n",
            "\n",
            "Epoch 00009: val_loss improved from 1.43726 to 1.30765, saving model to model.weights.best.lenet.hdf5\n",
            "Epoch 10/20\n",
            " - 3s - loss: 1.2985 - acc: 0.5454 - val_loss: 1.2888 - val_acc: 0.5392\n",
            "\n",
            "Epoch 00010: val_loss improved from 1.30765 to 1.28879, saving model to model.weights.best.lenet.hdf5\n",
            "Epoch 11/20\n",
            " - 3s - loss: 1.2574 - acc: 0.5588 - val_loss: 1.3380 - val_acc: 0.5188\n",
            "\n",
            "Epoch 00011: val_loss did not improve from 1.28879\n",
            "Epoch 12/20\n",
            " - 3s - loss: 1.2259 - acc: 0.5730 - val_loss: 1.2718 - val_acc: 0.5508\n",
            "\n",
            "Epoch 00012: val_loss improved from 1.28879 to 1.27182, saving model to model.weights.best.lenet.hdf5\n",
            "Epoch 13/20\n",
            " - 3s - loss: 1.1956 - acc: 0.5859 - val_loss: 1.2147 - val_acc: 0.5684\n",
            "\n",
            "Epoch 00013: val_loss improved from 1.27182 to 1.21472, saving model to model.weights.best.lenet.hdf5\n",
            "Epoch 14/20\n",
            " - 3s - loss: 1.1649 - acc: 0.5933 - val_loss: 1.2460 - val_acc: 0.5564\n",
            "\n",
            "Epoch 00014: val_loss did not improve from 1.21472\n",
            "Epoch 15/20\n",
            " - 3s - loss: 1.1358 - acc: 0.6025 - val_loss: 1.1976 - val_acc: 0.5676\n",
            "\n",
            "Epoch 00015: val_loss improved from 1.21472 to 1.19762, saving model to model.weights.best.lenet.hdf5\n",
            "Epoch 16/20\n",
            " - 3s - loss: 1.1078 - acc: 0.6123 - val_loss: 1.1537 - val_acc: 0.5912\n",
            "\n",
            "Epoch 00016: val_loss improved from 1.19762 to 1.15375, saving model to model.weights.best.lenet.hdf5\n",
            "Epoch 17/20\n",
            " - 3s - loss: 1.0814 - acc: 0.6219 - val_loss: 1.2159 - val_acc: 0.5844\n",
            "\n",
            "Epoch 00017: val_loss did not improve from 1.15375\n",
            "Epoch 18/20\n",
            " - 3s - loss: 1.0573 - acc: 0.6319 - val_loss: 1.1521 - val_acc: 0.5962\n",
            "\n",
            "Epoch 00018: val_loss improved from 1.15375 to 1.15206, saving model to model.weights.best.lenet.hdf5\n",
            "Epoch 19/20\n",
            " - 3s - loss: 1.0306 - acc: 0.6408 - val_loss: 1.1353 - val_acc: 0.5936\n",
            "\n",
            "Epoch 00019: val_loss improved from 1.15206 to 1.13526, saving model to model.weights.best.lenet.hdf5\n",
            "Epoch 20/20\n",
            " - 3s - loss: 1.0071 - acc: 0.6512 - val_loss: 1.1471 - val_acc: 0.6000\n",
            "\n",
            "Epoch 00020: val_loss did not improve from 1.13526\n"
          ],
          "name": "stdout"
        }
      ]
    },
    {
      "cell_type": "code",
      "metadata": {
        "id": "aV1omz9P1bVr",
        "colab_type": "code",
        "colab": {
          "base_uri": "https://localhost:8080/",
          "height": 51
        },
        "outputId": "c0f6ca04-8bb6-40ca-a7f8-5ca4b291aebb"
      },
      "source": [
        "# load the weights that yielded the best validation accuracy\n",
        "model.load_weights('model.weights.best.lenet.hdf5')\n",
        "\n",
        "\n",
        "# evaluate and print test accuracy\n",
        "score = model.evaluate(x_test, y_test, verbose=0)\n",
        "print('\\n', 'Test accuracy:', score[1])"
      ],
      "execution_count": 29,
      "outputs": [
        {
          "output_type": "stream",
          "text": [
            "\n",
            " Test accuracy: 0.5884\n"
          ],
          "name": "stdout"
        }
      ]
    },
    {
      "cell_type": "code",
      "metadata": {
        "id": "ESrBMJ6g1ioy",
        "colab_type": "code",
        "colab": {
          "base_uri": "https://localhost:8080/",
          "height": 605
        },
        "outputId": "e668894a-29c6-4ceb-b122-4a1f54018fc0"
      },
      "source": [
        "\n",
        "# evaluate the network\n",
        "print(\"[INFO] evaluating network...\")\n",
        "\n",
        "# get predictions on the test set\n",
        "predictions = model.predict(x_test, batch_size=128)\n",
        "\n",
        "# define text labels (source: https://www.cs.toronto.edu/~kriz/cifar.html)\n",
        "cifar10_labels = ['airplane', 'automobile', 'bird', 'cat', 'deer', 'dog', 'frog',\n",
        "                  'horse', 'ship', 'truck']\n",
        "\n",
        "\n",
        "print(classification_report(y_test.argmax(axis=1),\n",
        "predictions.argmax(axis=1),\n",
        "target_names=cifar10_labels))\n",
        "\n",
        "# plot the training loss and accuracy\n",
        "plt.style.use(\"ggplot\")\n",
        "plt.figure()\n",
        "plt.plot(np.arange(0, 20), hist.history[\"loss\"], label=\"train_loss\" )\n",
        "plt.plot(np.arange(0, 20), hist.history[\"val_loss\"], label=\"val_loss\")\n",
        "plt.plot(np.arange(0, 20), hist.history[\"acc\" ], label=\"train_acc\" )\n",
        "plt.plot(np.arange(0, 20), hist.history[\"val_acc\"], label=\"val_acc\")\n",
        "plt.title(\"Training Loss and Accuracy\")\n",
        "plt.xlabel(\"Epoch #\")\n",
        "plt.ylabel(\"Loss/Accuracy\")\n",
        "plt.legend()\n",
        "plt.show()"
      ],
      "execution_count": 30,
      "outputs": [
        {
          "output_type": "stream",
          "text": [
            "[INFO] evaluating network...\n",
            "              precision    recall  f1-score   support\n",
            "\n",
            "    airplane       0.76      0.55      0.64      1000\n",
            "  automobile       0.73      0.76      0.74      1000\n",
            "        bird       0.62      0.32      0.42      1000\n",
            "         cat       0.54      0.18      0.28      1000\n",
            "        deer       0.45      0.59      0.51      1000\n",
            "         dog       0.43      0.68      0.53      1000\n",
            "        frog       0.49      0.85      0.62      1000\n",
            "       horse       0.78      0.56      0.65      1000\n",
            "        ship       0.69      0.78      0.73      1000\n",
            "       truck       0.70      0.62      0.65      1000\n",
            "\n",
            "   micro avg       0.59      0.59      0.59     10000\n",
            "   macro avg       0.62      0.59      0.58     10000\n",
            "weighted avg       0.62      0.59      0.58     10000\n",
            "\n"
          ],
          "name": "stdout"
        },
        {
          "output_type": "display_data",
          "data": {
            "image/png": "[encoded data removed]",
            "text/plain": [
              "<Figure size 432x288 with 1 Axes>"
            ]
          },
          "metadata": {
            "tags": []
          }
        }
      ]
    },
    {
      "cell_type": "markdown",
      "metadata": {
        "id": "8_eABF7c2QDz",
        "colab_type": "text"
      },
      "source": [
        "## NewAlexNet"
      ]
    },
    {
      "cell_type": "code",
      "metadata": {
        "id": "AydL-npo2PLW",
        "colab_type": "code",
        "colab": {}
      },
      "source": [
        "from keras.layers.normalization import BatchNormalization\n",
        "from keras.layers.core import Dropout\n",
        "\n",
        "def build_NewAlexNet(width, height, depth, classes):\n",
        "  # initialize the model\n",
        "  model = Sequential()\n",
        "  inputShape = (height, width, depth)\n",
        "  model.add(Conv2D(32, (5, 5), input_shape=inputShape))\n",
        "  model.add(Activation(\"relu\"))\n",
        "  model.add(MaxPooling2D(pool_size=(2, 2)))\n",
        "  model.add(Conv2D(64, (3, 3)))\n",
        "  model.add(Activation(\"relu\"))\n",
        "  model.add(BatchNormalization(axis=2))\n",
        "  model.add(Dropout(0.25))\n",
        "  \n",
        "  \n",
        "  model.add(Conv2D(32, (5, 5)))\n",
        "  model.add(Activation(\"relu\"))\n",
        "  model.add(MaxPooling2D(pool_size=(2, 2)))\n",
        "  model.add(Conv2D(64, (3, 3)))\n",
        "  model.add(Activation(\"relu\"))\n",
        "  model.add(BatchNormalization(axis=2))\n",
        "  model.add(Dropout(0.25))\n",
        "  \n",
        "  model.add(Flatten())\n",
        "  model.add(Dense(1024))\n",
        "  model.add(Activation(\"relu\"))\n",
        "  model.add(BatchNormalization())\n",
        "  model.add(Dense(512))\n",
        "  model.add(Activation(\"relu\"))\n",
        "  model.add(BatchNormalization())\n",
        "  model.add(Dropout(0.5))\n",
        "  \n",
        "  # softmax classifier\n",
        "  model.add(Dense(classes))\n",
        "  model.add(Activation(\"softmax\"))\n",
        "  \n",
        "  model.summary()\n",
        "  \n",
        "  # return the constructed network architecture\n",
        "  return model"
      ],
      "execution_count": 0,
      "outputs": []
    },
    {
      "cell_type": "code",
      "metadata": {
        "id": "GFQMk3PJ2WpY",
        "colab_type": "code",
        "colab": {
          "base_uri": "https://localhost:8080/",
          "height": 952
        },
        "outputId": "f71dffe5-23ff-47c5-87f6-6bae1afc57ef"
      },
      "source": [
        "opt = SGD(lr=0.01)\n",
        "model = build_NewAlexNet(width=32, height=32, depth=3, classes=10)\n",
        "model.compile(loss='categorical_crossentropy', optimizer=opt, \n",
        "                  metrics=['accuracy'])"
      ],
      "execution_count": 32,
      "outputs": [
        {
          "output_type": "stream",
          "text": [
            "_________________________________________________________________\n",
            "Layer (type)                 Output Shape              Param #   \n",
            "=================================================================\n",
            "conv2d_27 (Conv2D)           (None, 28, 28, 32)        2432      \n",
            "_________________________________________________________________\n",
            "activation_20 (Activation)   (None, 28, 28, 32)        0         \n",
            "_________________________________________________________________\n",
            "max_pooling2d_13 (MaxPooling (None, 14, 14, 32)        0         \n",
            "_________________________________________________________________\n",
            "conv2d_28 (Conv2D)           (None, 12, 12, 64)        18496     \n",
            "_________________________________________________________________\n",
            "activation_21 (Activation)   (None, 12, 12, 64)        0         \n",
            "_________________________________________________________________\n",
            "batch_normalization_14 (Batc (None, 12, 12, 64)        48        \n",
            "_________________________________________________________________\n",
            "dropout_8 (Dropout)          (None, 12, 12, 64)        0         \n",
            "_________________________________________________________________\n",
            "conv2d_29 (Conv2D)           (None, 8, 8, 32)          51232     \n",
            "_________________________________________________________________\n",
            "activation_22 (Activation)   (None, 8, 8, 32)          0         \n",
            "_________________________________________________________________\n",
            "max_pooling2d_14 (MaxPooling (None, 4, 4, 32)          0         \n",
            "_________________________________________________________________\n",
            "conv2d_30 (Conv2D)           (None, 2, 2, 64)          18496     \n",
            "_________________________________________________________________\n",
            "activation_23 (Activation)   (None, 2, 2, 64)          0         \n",
            "_________________________________________________________________\n",
            "batch_normalization_15 (Batc (None, 2, 2, 64)          8         \n",
            "_________________________________________________________________\n",
            "dropout_9 (Dropout)          (None, 2, 2, 64)          0         \n",
            "_________________________________________________________________\n",
            "flatten_5 (Flatten)          (None, 256)               0         \n",
            "_________________________________________________________________\n",
            "dense_10 (Dense)             (None, 1024)              263168    \n",
            "_________________________________________________________________\n",
            "activation_24 (Activation)   (None, 1024)              0         \n",
            "_________________________________________________________________\n",
            "batch_normalization_16 (Batc (None, 1024)              4096      \n",
            "_________________________________________________________________\n",
            "dense_11 (Dense)             (None, 512)               524800    \n",
            "_________________________________________________________________\n",
            "activation_25 (Activation)   (None, 512)               0         \n",
            "_________________________________________________________________\n",
            "batch_normalization_17 (Batc (None, 512)               2048      \n",
            "_________________________________________________________________\n",
            "dropout_10 (Dropout)         (None, 512)               0         \n",
            "_________________________________________________________________\n",
            "dense_12 (Dense)             (None, 10)                5130      \n",
            "_________________________________________________________________\n",
            "activation_26 (Activation)   (None, 10)                0         \n",
            "=================================================================\n",
            "Total params: 889,954\n",
            "Trainable params: 886,854\n",
            "Non-trainable params: 3,100\n",
            "_________________________________________________________________\n"
          ],
          "name": "stdout"
        }
      ]
    },
    {
      "cell_type": "code",
      "metadata": {
        "id": "zAnjTNSP2aaw",
        "colab_type": "code",
        "colab": {
          "base_uri": "https://localhost:8080/",
          "height": 1394
        },
        "outputId": "5ffc9373-2a13-4e21-d3ea-f2957fa00b05"
      },
      "source": [
        "from keras.callbacks import ModelCheckpoint   \n",
        "\n",
        "# train the model\n",
        "checkpointer = ModelCheckpoint(filepath='model.weights.best.newalexnet.hdf5', verbose=1, \n",
        "                               save_best_only=True)\n",
        "hist = model.fit(x_train, y_train, batch_size=128, epochs=20,\n",
        "          validation_data=(x_valid, y_valid), callbacks=[checkpointer], \n",
        "          verbose=2, shuffle=True)"
      ],
      "execution_count": 33,
      "outputs": [
        {
          "output_type": "stream",
          "text": [
            "Train on 45000 samples, validate on 5000 samples\n",
            "Epoch 1/20\n",
            " - 7s - loss: 2.6481 - acc: 0.1885 - val_loss: 1.9870 - val_acc: 0.2732\n",
            "\n",
            "Epoch 00001: val_loss improved from inf to 1.98701, saving model to model.weights.best.newalexnet.hdf5\n",
            "Epoch 2/20\n",
            " - 5s - loss: 2.0482 - acc: 0.2839 - val_loss: 1.7134 - val_acc: 0.3710\n",
            "\n",
            "Epoch 00002: val_loss improved from 1.98701 to 1.71341, saving model to model.weights.best.newalexnet.hdf5\n",
            "Epoch 3/20\n",
            " - 5s - loss: 1.7931 - acc: 0.3501 - val_loss: 1.5400 - val_acc: 0.4438\n",
            "\n",
            "Epoch 00003: val_loss improved from 1.71341 to 1.53999, saving model to model.weights.best.newalexnet.hdf5\n",
            "Epoch 4/20\n",
            " - 5s - loss: 1.6184 - acc: 0.4089 - val_loss: 1.5127 - val_acc: 0.4562\n",
            "\n",
            "Epoch 00004: val_loss improved from 1.53999 to 1.51274, saving model to model.weights.best.newalexnet.hdf5\n",
            "Epoch 5/20\n",
            " - 5s - loss: 1.5138 - acc: 0.4468 - val_loss: 1.3650 - val_acc: 0.4956\n",
            "\n",
            "Epoch 00005: val_loss improved from 1.51274 to 1.36502, saving model to model.weights.best.newalexnet.hdf5\n",
            "Epoch 6/20\n",
            " - 5s - loss: 1.4383 - acc: 0.4756 - val_loss: 1.4228 - val_acc: 0.4934\n",
            "\n",
            "Epoch 00006: val_loss did not improve from 1.36502\n",
            "Epoch 7/20\n",
            " - 5s - loss: 1.3703 - acc: 0.5028 - val_loss: 1.2823 - val_acc: 0.5382\n",
            "\n",
            "Epoch 00007: val_loss improved from 1.36502 to 1.28231, saving model to model.weights.best.newalexnet.hdf5\n",
            "Epoch 8/20\n",
            " - 5s - loss: 1.3196 - acc: 0.5225 - val_loss: 1.2252 - val_acc: 0.5574\n",
            "\n",
            "Epoch 00008: val_loss improved from 1.28231 to 1.22515, saving model to model.weights.best.newalexnet.hdf5\n",
            "Epoch 9/20\n",
            " - 5s - loss: 1.2779 - acc: 0.5396 - val_loss: 1.5158 - val_acc: 0.4876\n",
            "\n",
            "Epoch 00009: val_loss did not improve from 1.22515\n",
            "Epoch 10/20\n",
            " - 5s - loss: 1.2310 - acc: 0.5575 - val_loss: 1.3065 - val_acc: 0.5398\n",
            "\n",
            "Epoch 00010: val_loss did not improve from 1.22515\n",
            "Epoch 11/20\n",
            " - 5s - loss: 1.1963 - acc: 0.5726 - val_loss: 1.1466 - val_acc: 0.5916\n",
            "\n",
            "Epoch 00011: val_loss improved from 1.22515 to 1.14663, saving model to model.weights.best.newalexnet.hdf5\n",
            "Epoch 12/20\n",
            " - 5s - loss: 1.1562 - acc: 0.5841 - val_loss: 1.1055 - val_acc: 0.6020\n",
            "\n",
            "Epoch 00012: val_loss improved from 1.14663 to 1.10554, saving model to model.weights.best.newalexnet.hdf5\n",
            "Epoch 13/20\n",
            " - 5s - loss: 1.1256 - acc: 0.5965 - val_loss: 1.3131 - val_acc: 0.5474\n",
            "\n",
            "Epoch 00013: val_loss did not improve from 1.10554\n",
            "Epoch 14/20\n",
            " - 5s - loss: 1.0967 - acc: 0.6092 - val_loss: 1.0433 - val_acc: 0.6288\n",
            "\n",
            "Epoch 00014: val_loss improved from 1.10554 to 1.04326, saving model to model.weights.best.newalexnet.hdf5\n",
            "Epoch 15/20\n",
            " - 5s - loss: 1.0699 - acc: 0.6179 - val_loss: 1.0327 - val_acc: 0.6370\n",
            "\n",
            "Epoch 00015: val_loss improved from 1.04326 to 1.03271, saving model to model.weights.best.newalexnet.hdf5\n",
            "Epoch 16/20\n",
            " - 5s - loss: 1.0424 - acc: 0.6280 - val_loss: 1.2184 - val_acc: 0.5732\n",
            "\n",
            "Epoch 00016: val_loss did not improve from 1.03271\n",
            "Epoch 17/20\n",
            " - 5s - loss: 1.0187 - acc: 0.6372 - val_loss: 1.0206 - val_acc: 0.6358\n",
            "\n",
            "Epoch 00017: val_loss improved from 1.03271 to 1.02062, saving model to model.weights.best.newalexnet.hdf5\n",
            "Epoch 18/20\n",
            " - 5s - loss: 0.9982 - acc: 0.6442 - val_loss: 1.0414 - val_acc: 0.6264\n",
            "\n",
            "Epoch 00018: val_loss did not improve from 1.02062\n",
            "Epoch 19/20\n",
            " - 5s - loss: 0.9809 - acc: 0.6482 - val_loss: 1.0543 - val_acc: 0.6304\n",
            "\n",
            "Epoch 00019: val_loss did not improve from 1.02062\n",
            "Epoch 20/20\n",
            " - 5s - loss: 0.9646 - acc: 0.6580 - val_loss: 1.1675 - val_acc: 0.5910\n",
            "\n",
            "Epoch 00020: val_loss did not improve from 1.02062\n"
          ],
          "name": "stdout"
        }
      ]
    },
    {
      "cell_type": "code",
      "metadata": {
        "id": "0h6bVHJ82iwh",
        "colab_type": "code",
        "colab": {
          "base_uri": "https://localhost:8080/",
          "height": 51
        },
        "outputId": "f090c175-a9d4-4bea-9d9e-777376c1eb7c"
      },
      "source": [
        "# load the weights that yielded the best validation accuracy\n",
        "model.load_weights('model.weights.best.newalexnet.hdf5')\n",
        "\n",
        "# evaluate and print test accuracy\n",
        "score = model.evaluate(x_test, y_test, verbose=0)\n",
        "print('\\n', 'Test accuracy:', score[1])"
      ],
      "execution_count": 34,
      "outputs": [
        {
          "output_type": "stream",
          "text": [
            "\n",
            " Test accuracy: 0.6244\n"
          ],
          "name": "stdout"
        }
      ]
    },
    {
      "cell_type": "code",
      "metadata": {
        "id": "ga8JM_il2i7B",
        "colab_type": "code",
        "colab": {
          "base_uri": "https://localhost:8080/",
          "height": 605
        },
        "outputId": "0e1f805d-0602-44bc-b80b-da985487b7a4"
      },
      "source": [
        "# evaluate the network\n",
        "print(\"[INFO] evaluating network...\")\n",
        "\n",
        "# get predictions on the test set\n",
        "predictions = model.predict(x_test, batch_size=128)\n",
        "\n",
        "# define text labels (source: https://www.cs.toronto.edu/~kriz/cifar.html)\n",
        "cifar10_labels = ['airplane', 'automobile', 'bird', 'cat', 'deer', 'dog', 'frog',\n",
        "                  'horse', 'ship', 'truck']\n",
        "\n",
        "\n",
        "print(classification_report(y_test.argmax(axis=1),\n",
        "predictions.argmax(axis=1),\n",
        "target_names=cifar10_labels))\n",
        "\n",
        "# plot the training loss and accuracy\n",
        "plt.style.use(\"ggplot\")\n",
        "plt.figure()\n",
        "plt.plot(np.arange(0, 20), hist.history[\"loss\"], label=\"train_loss\" )\n",
        "plt.plot(np.arange(0, 20), hist.history[\"val_loss\"], label=\"val_loss\")\n",
        "plt.plot(np.arange(0, 20), hist.history[\"acc\" ], label=\"train_acc\" )\n",
        "plt.plot(np.arange(0, 20), hist.history[\"val_acc\"], label=\"val_acc\")\n",
        "plt.title(\"Training Loss and Accuracy\")\n",
        "plt.xlabel(\"Epoch #\")\n",
        "plt.ylabel(\"Loss/Accuracy\")\n",
        "plt.legend()\n",
        "plt.show()"
      ],
      "execution_count": 35,
      "outputs": [
        {
          "output_type": "stream",
          "text": [
            "[INFO] evaluating network...\n",
            "              precision    recall  f1-score   support\n",
            "\n",
            "    airplane       0.66      0.67      0.66      1000\n",
            "  automobile       0.79      0.76      0.77      1000\n",
            "        bird       0.44      0.61      0.51      1000\n",
            "         cat       0.41      0.48      0.44      1000\n",
            "        deer       0.62      0.49      0.55      1000\n",
            "         dog       0.55      0.49      0.52      1000\n",
            "        frog       0.58      0.83      0.68      1000\n",
            "       horse       0.83      0.54      0.66      1000\n",
            "        ship       0.77      0.75      0.76      1000\n",
            "       truck       0.86      0.62      0.72      1000\n",
            "\n",
            "   micro avg       0.62      0.62      0.62     10000\n",
            "   macro avg       0.65      0.62      0.63     10000\n",
            "weighted avg       0.65      0.62      0.63     10000\n",
            "\n"
          ],
          "name": "stdout"
        },
        {
          "output_type": "display_data",
          "data": {
            "image/png": "[encoded data removed]",
            "text/plain": [
              "<Figure size 432x288 with 1 Axes>"
            ]
          },
          "metadata": {
            "tags": []
          }
        }
      ]
    },
    {
      "cell_type": "markdown",
      "metadata": {
        "id": "KtsNOi--O0dT",
        "colab_type": "text"
      },
      "source": [
        "##Exercício\n",
        "\n",
        "1. Compare a arquitetura criada MiniVGG com a VGG16. Quais são as principais diferenças? Formule uma nova arquitetura VGG16.\n",
        "\n",
        "2. Compare a arquitetura criada LENET com a AlexNet. Quais são as principais diferenças? Formule uma nova arquitetura da AlexNet.\n",
        "\n",
        "\n",
        "---\n",
        "\n",
        "1. A MiniVGG possui 32 filtros enquanto a VGG16 possui 64 filtros, também é observada que não há camadas convolutivas maiores que 128 filtros. Além do que na MiniVGG é utilizada uma camada de batch normalization após as camadas convolutivas e a ausência de camadas totalmente conectadas.\n",
        "\n",
        "2. A LeNet possui 8 camadas e a AlexNet possui 15 camadas. A AlexNet já se inicializa com seus 96 filtros de tamanho 55x55 e, gradualmente, vai diminuindo o tamanho de seus filtros, mas aumentando a quantidade. Enquanto na LeNet vai aumentando o número de seus filtros sem modificar o tamanho, por exemplo: começa com 10 filtros de tamanho 5x5 e termina com 25 filtros de tamanho 5x5."
      ]
    },
    {
      "cell_type": "code",
      "metadata": {
        "id": "LwBl0LhP43_W",
        "colab_type": "code",
        "colab": {}
      },
      "source": [
        ""
      ],
      "execution_count": 0,
      "outputs": []
    }
  ]
}