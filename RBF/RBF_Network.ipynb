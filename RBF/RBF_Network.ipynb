{
 "cells": [
  {
   "cell_type": "markdown",
   "metadata": {
    "colab_type": "text",
    "id": "view-in-github"
   },
   "source": [
    "<a href=\"https://colab.research.google.com/github/vmacf/redes_neurais/blob/master/RBF/RBF_Network.ipynb\" target=\"_parent\"><img src=\"https://colab.research.google.com/assets/colab-badge.svg\" alt=\"Open In Colab\"/></a>"
   ]
  },
  {
   "cell_type": "markdown",
   "metadata": {
    "colab_type": "text",
    "id": "7A0GQWDGtrpX"
   },
   "source": [
    "# Rede Neural de Base Radial (RBF)"
   ]
  },
  {
   "cell_type": "markdown",
   "metadata": {
    "colab_type": "text",
    "id": "EOIor4J3PFBL"
   },
   "source": [
    "1ª Etapa: Inicialização dos grupos com K-Means"
   ]
  },
  {
   "cell_type": "code",
   "execution_count": 2,
   "metadata": {
    "colab": {},
    "colab_type": "code",
    "id": "_yf95ysF2wAn"
   },
   "outputs": [],
   "source": [
    "import numpy as np\n",
    "import matplotlib.pyplot as plt\n",
    "\n",
    "def kmeans(X, k):\n",
    "  \n",
    "    \"\"\"Performs k-means clustering for 1D input\n",
    "    \n",
    "    Arguments:\n",
    "        X {ndarray} -- vetor de características da entrada\n",
    "        k {int} -- número de grupos\n",
    "    \n",
    "    Returns:\n",
    "        ndarray -- retorna um array com os centros dos grupos\n",
    "    \"\"\"\n",
    "\n",
    "    # randomly select initial clusters from input data\n",
    "    clusters = np.random.choice(np.squeeze(X), size=k)\n",
    "    prevClusters = clusters.copy()\n",
    "    stds = np.zeros(k)\n",
    "    converged = False\n",
    "\n",
    "    while not converged:\n",
    "        \"\"\"\n",
    "        compute distances for each cluster center to each point \n",
    "        where (distances[i, j] represents the distance between the ith point and jth cluster)\n",
    "        \"\"\"\n",
    "        distances = np.squeeze(np.abs(X[:, np.newaxis] - clusters[np.newaxis, :]))\n",
    "\n",
    "        # find the cluster that's closest to each point\n",
    "        closestCluster = np.argmin(distances, axis=1)\n",
    "\n",
    "        # update clusters by taking the mean of all of the points assigned to that cluster\n",
    "        for i in range(k):\n",
    "            pointsForCluster = X[closestCluster == i]\n",
    "            if len(pointsForCluster) > 0:\n",
    "                clusters[i] = np.mean(pointsForCluster, axis=0)\n",
    "\n",
    "        # converge if clusters haven't moved\n",
    "        converged = np.linalg.norm(clusters - prevClusters) < 1e-6\n",
    "        prevClusters = clusters.copy()\n",
    "\n",
    "    distances = np.squeeze(np.abs(X[:, np.newaxis] - clusters[np.newaxis, :]))\n",
    "    closestCluster = np.argmin(distances, axis=1)\n",
    "\n",
    "    clustersWithNoPoints = []\n",
    "    for i in range(k):\n",
    "        pointsForCluster = X[closestCluster == i]\n",
    "        if len(pointsForCluster) < 2:\n",
    "            # keep track of clusters with no points or 1 point\n",
    "            clustersWithNoPoints.append(i)\n",
    "            continue\n",
    "        else:\n",
    "            stds[i] = np.std(X[closestCluster == i])\n",
    "\n",
    "    # if there are clusters with 0 or 1 points, take the mean std of the other clusters\n",
    "    if len(clustersWithNoPoints) > 0:\n",
    "        pointsToAverage = []\n",
    "        for i in range(k):\n",
    "            if i not in clustersWithNoPoints:\n",
    "                pointsToAverage.append(X[closestCluster == i])\n",
    "        pointsToAverage = np.concatenate(pointsToAverage).ravel()\n",
    "        stds[clustersWithNoPoints] = np.mean(np.std(pointsToAverage))\n",
    "\n",
    "    return clusters, stds\n",
    "\n",
    "\n",
    "  \n",
    "  \n",
    "\n",
    "\n"
   ]
  },
  {
   "cell_type": "markdown",
   "metadata": {
    "colab_type": "text",
    "id": "_ulVaA8RPSwo"
   },
   "source": [
    "Definição da função de base radial"
   ]
  },
  {
   "cell_type": "code",
   "execution_count": 3,
   "metadata": {
    "colab": {},
    "colab_type": "code",
    "id": "YeqYYe9hPY4v"
   },
   "outputs": [],
   "source": [
    "\n",
    "def rbfGaussiana(x, c, s):\n",
    "    return np.exp(-1 / (2 * s**2) * (x-c)**2)\n",
    "  \n",
    "def rbfMultiquadratica(x, c, s):\n",
    "    return np.sqrt(x**2 + c**2)/c\n",
    "\n",
    "def rbfMultiquadraticaInversa(x, c, s):\n",
    "    return c/np.sqrt(x**2 + c**2)"
   ]
  },
  {
   "cell_type": "markdown",
   "metadata": {
    "colab_type": "text",
    "id": "52oUNimoPuK3"
   },
   "source": [
    "2ª Etapa - Treinamento de uma Rede Neural"
   ]
  },
  {
   "cell_type": "code",
   "execution_count": 4,
   "metadata": {
    "colab": {},
    "colab_type": "code",
    "id": "RGdrOhYfPzBu"
   },
   "outputs": [],
   "source": [
    "class RBFNet(object):\n",
    "    \"\"\"Implementation of a Radial Basis Function Network\"\"\"\n",
    "    def __init__(self, k=2, lr=0.01, epochs=100, rbf=None, inferStds=True):\n",
    "        self.k = k #grupos\n",
    "        self.lr = lr \n",
    "        self.epochs = epochs #número de iterações\n",
    "        self.rbf = rbf\n",
    "        self.inferStds = inferStds #se vai calcular o tamanho do cluster (std)\n",
    "\n",
    "        self.w = np.random.randn(k)\n",
    "        self.b = np.random.randn(1)\n",
    "\n",
    "    def fit(self, X, y):\n",
    "        if self.inferStds:\n",
    "            # compute stds from data\n",
    "            self.centers, self.stds = kmeans(X, self.k)\n",
    "        else:\n",
    "            # use a fixed std \n",
    "            self.centers, _ = kmeans(X, self.k)\n",
    "            dMax = max([np.abs(c1 - c2) for c1 in self.centers for c2 in self.centers])\n",
    "            self.stds = np.repeat(dMax / np.sqrt(2*self.k), self.k)\n",
    "\n",
    "        # training\n",
    "        for epoch in range(self.epochs):\n",
    "            for i in range(X.shape[0]):\n",
    "                # forward pass\n",
    "                a = np.array([self.rbf(X[i], c, s) for c, s, in zip(self.centers, self.stds)])\n",
    "                F = a.T.dot(self.w) + self.b\n",
    "\n",
    "                loss = (y[i] - F).flatten() ** 2\n",
    "                #print('Loss: {0:.2f}'.format(loss[0]))\n",
    "\n",
    "                # backward pass\n",
    "                error = -(y[i] - F).flatten()\n",
    "\n",
    "                # online update\n",
    "                self.w = self.w - self.lr * a * error\n",
    "                self.b = self.b - self.lr * error\n",
    "\n",
    "    def predict(self, X):\n",
    "        y_pred = []\n",
    "        error = 0\n",
    "        for i in range(X.shape[0]):\n",
    "            a = np.array([self.rbf(X[i], c, s) for c, s, in zip(self.centers, self.stds)])\n",
    "            F = a.T.dot(self.w) + self.b\n",
    "            y_pred.append(F)\n",
    "            \n",
    "            \n",
    "        return np.array(y_pred)\n",
    "\n"
   ]
  },
  {
   "cell_type": "markdown",
   "metadata": {
    "colab_type": "text",
    "id": "tPLeuHRlQD3b"
   },
   "source": [
    "Executando a Rede Neural"
   ]
  },
  {
   "cell_type": "code",
   "execution_count": 5,
   "metadata": {
    "colab": {
     "base_uri": "https://localhost:8080/",
     "height": 420
    },
    "colab_type": "code",
    "id": "ILtnvEwQQFkV",
    "outputId": "c14d0ff4-4246-4dfa-b8c1-8e9d41b2e278"
   },
   "outputs": [
    {
     "name": "stdout",
     "output_type": "stream",
     "text": [
      "error:  0.671201241556343\n"
     ]
    },
    {
     "data": {
      "image/png": "[encoded data removed]",
      "text/plain": [
       "<Figure size 432x288 with 1 Axes>"
      ]
     },
     "metadata": {
      "needs_background": "light"
     },
     "output_type": "display_data"
    }
   ],
   "source": [
    "# sample inputs and add noise\n",
    "NUM_SAMPLES = 100\n",
    "X = np.random.uniform(0., 1., NUM_SAMPLES)\n",
    "X = np.sort(X, axis=0)\n",
    "noise = np.random.uniform(-0.1, 0.1, NUM_SAMPLES)\n",
    "y = np.sin(2 * np.pi * X)  + noise\n",
    "\n",
    "rbfnet = RBFNet(lr=1e-2, k=2, inferStds=True)\n",
    "rbfnet.fit(X, y)\n",
    "\n",
    "y_pred = rbfnet.predict(X)\n",
    "\n",
    "errorabs = abs(y-y_pred)\n",
    "print('error: ' , np.sum(errorabs[0]/NUM_SAMPLES, axis=0))\n",
    "\n",
    "\n",
    "plt.plot(X, y, '-o', label='true')\n",
    "plt.plot(X, y_pred, '-o', label='RBF-Net')\n",
    "plt.legend()\n",
    "\n",
    "plt.tight_layout()\n",
    "plt.show()"
   ]
  },
  {
   "cell_type": "markdown",
   "metadata": {
    "colab_type": "text",
    "id": "tWNpEtxSW46Q"
   },
   "source": [
    "# Executando com Base de Dados"
   ]
  },
  {
   "cell_type": "code",
   "execution_count": 8,
   "metadata": {
    "colab": {
     "base_uri": "https://localhost:8080/",
     "height": 137
    },
    "colab_type": "code",
    "id": "P75CdFJ4W7mU",
    "outputId": "5362bc5a-9a64-480a-f1d0-830e95d5a7fb",
    "scrolled": true
   },
   "outputs": [],
   "source": [
    "data = 'train-mod.csv'\n",
    "sigma = 1.2\n",
    "itergd = 300\n",
    "\n",
    "dataread = np.genfromtxt(data, delimiter=',')[1:,1:]\n",
    "\n",
    "alldata = []\n",
    "for i in range(len(dataread)):\n",
    "    if np.isnan(dataread[i,-2]):\n",
    "\t\t    continue\n",
    "    alldata.append(dataread[i])\n",
    "\n",
    "alldata = np.asarray(alldata)\n",
    "\n",
    "#dividing data\n",
    "trainparam = alldata[:600,1:]\n",
    "trainlabel = alldata[:600,0]\n",
    "\n",
    "testparam = alldata[600:,1:]\n",
    "testlabel = alldata[600:,0]\n",
    "\n",
    "###############\n",
    "#normalization#\n",
    "###############\n",
    "\n",
    "std = np.zeros((len(trainparam[0]))).astype('float32')\n",
    "rata = np.zeros((len(trainparam[0]))).astype('float32')\n",
    "trainparamnorm = np.zeros(np.shape(trainparam))\n",
    "testparamnorm = np.zeros(np.shape(testparam))\n",
    "\n",
    "for i in range(len(trainparam[0])):\n",
    "    std[i] = np.std(trainparam[:,i])\n",
    "    rata[i] = np.mean(trainparam[:,i])\n",
    "    trainparamnorm[:,i] = (trainparam[:,i] - rata[i]) / std[i]\n",
    "    testparamnorm[:,i] = (testparam[:,i] - rata[i]) / std[i]\n"
   ]
  },
  {
   "cell_type": "markdown",
   "metadata": {
    "colab_type": "text",
    "id": "jLO2Gq4Jtso3"
   },
   "source": [
    "# Calculando a taxa de erro"
   ]
  },
  {
   "cell_type": "code",
   "execution_count": null,
   "metadata": {},
   "outputs": [],
   "source": []
  },
  {
   "cell_type": "code",
   "execution_count": null,
   "metadata": {},
   "outputs": [],
   "source": []
  },
  {
   "cell_type": "code",
   "execution_count": null,
   "metadata": {},
   "outputs": [],
   "source": []
  }
 ],
 "metadata": {
  "colab": {
   "collapsed_sections": [],
   "include_colab_link": true,
   "name": "RBF Network",
   "provenance": [],
   "toc_visible": true,
   "version": "0.3.2"
  },
  "kernelspec": {
   "display_name": "Python 3",
   "language": "python",
   "name": "python3"
  },
  "language_info": {
   "codemirror_mode": {
    "name": "ipython",
    "version": 3
   },
   "file_extension": ".py",
   "mimetype": "text/x-python",
   "name": "python",
   "nbconvert_exporter": "python",
   "pygments_lexer": "ipython3",
   "version": "3.6.7"
  }
 },
 "nbformat": 4,
 "nbformat_minor": 1
}
